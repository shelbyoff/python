{
 "cells": [
  {
   "cell_type": "code",
   "execution_count": 39,
   "id": "0e7c6550",
   "metadata": {
    "scrolled": true
   },
   "outputs": [],
   "source": [
    "                                                                                                                                                                                                                                                                                                                                                                                                                                                                                                                                                                                                                                                                                                                                                        import pyttsx3\n",
    "from pyttsx3 import Engine\n",
    "engine: Engine = pyttsx3.init('sapi5')\n",
    "voices = engine.getProperty('voices')\n",
    "engine.setProperty('voice', voices[0].id)\n",
    "engine.setProperty('rate', 160)\n",
    "engine.runAndWait()\n",
    "def talk(text):\n",
    "    engine.say(text)\n",
    "    print(text)\n",
    "    engine.runAndWait()"
   ]
  },
  {
   "cell_type": "markdown",
   "id": "7c5c7ef9",
   "metadata": {},
   "source": [
    "# DATATYPE & VARIABLES"
   ]
  },
  {
   "cell_type": "raw",
   "id": "af8c5b7e",
   "metadata": {},
   "source": [
    "1. Integers\n",
    "2. String\n",
    "3. Float\n",
    "4. boolean\n",
    "\n",
    "variables: variable_name = value\n",
    "reserved memory location used to store values\n",
    "\n",
    "Variable names are case-sensitive (age and Age are different variables).\n",
    "Variable names must begin with a letter (a-z, A-Z) or an underscore (_).\n",
    "Subsequent characters can be letters, digits (0-9), or underscores.\n",
    "Avoid using reserved words as variable names (e.g., if, else, while, etc.)."
   ]
  },
  {
   "cell_type": "code",
   "execution_count": 3,
   "id": "f8249445",
   "metadata": {},
   "outputs": [],
   "source": [
    "Integer = 7345\n",
    "string = \"akash  s as dsa dsa\"\n",
    "float_num = 12.5\n",
    "boolean = True or False"
   ]
  },
  {
   "cell_type": "code",
   "execution_count": 18,
   "id": "bf542400",
   "metadata": {},
   "outputs": [
    {
     "name": "stdout",
     "output_type": "stream",
     "text": [
      "akash m\n"
     ]
    }
   ],
   "source": [
    "name = \"akash m\"\n",
    "department = \"cse\"\n",
    "sec=\"A\"\n",
    "Rollno=12321\n",
    "print(name)"
   ]
  },
  {
   "cell_type": "code",
   "execution_count": 17,
   "id": "31c3b0ff",
   "metadata": {},
   "outputs": [
    {
     "name": "stdout",
     "output_type": "stream",
     "text": [
      "akash m\n"
     ]
    }
   ],
   "source": [
    "print(name)"
   ]
  },
  {
   "cell_type": "markdown",
   "id": "5d69637c",
   "metadata": {},
   "source": [
    "# OPERATORS "
   ]
  },
  {
   "cell_type": "code",
   "execution_count": 9,
   "id": "716e7cd0",
   "metadata": {},
   "outputs": [],
   "source": [
    "a = 3\n",
    "b = 8\n",
    "c=6\n",
    "d=1"
   ]
  },
  {
   "cell_type": "code",
   "execution_count": 10,
   "id": "8c3e15b5",
   "metadata": {},
   "outputs": [
    {
     "name": "stdout",
     "output_type": "stream",
     "text": [
      "12\n"
     ]
    }
   ],
   "source": [
    "print((a-d)%b*c)"
   ]
  },
  {
   "cell_type": "code",
   "execution_count": 6,
   "id": "bd5dd3ee",
   "metadata": {},
   "outputs": [
    {
     "name": "stdout",
     "output_type": "stream",
     "text": [
      "-5\n"
     ]
    }
   ],
   "source": [
    "print(a-b)"
   ]
  },
  {
   "cell_type": "code",
   "execution_count": 7,
   "id": "40f4c4bb",
   "metadata": {},
   "outputs": [
    {
     "name": "stdout",
     "output_type": "stream",
     "text": [
      "33\n"
     ]
    }
   ],
   "source": [
    "print(a*(b+a))"
   ]
  },
  {
   "cell_type": "code",
   "execution_count": 2,
   "id": "9c21232f",
   "metadata": {},
   "outputs": [
    {
     "name": "stdout",
     "output_type": "stream",
     "text": [
      "Akash Have a Great Day\n"
     ]
    }
   ],
   "source": [
    "name = \"Akash\"\n",
    "greeting = ' Have'+\" a\" + \" Great \"+\"Day\"\n",
    "print(name + greeting)"
   ]
  },
  {
   "cell_type": "code",
   "execution_count": null,
   "id": "f6deee34",
   "metadata": {},
   "outputs": [],
   "source": [
    "names = name*3\n",
    "print(names)"
   ]
  },
  {
   "cell_type": "code",
   "execution_count": 11,
   "id": "78f5b0c2",
   "metadata": {},
   "outputs": [],
   "source": [
    "a = \"mom\"\n",
    "b= \"mom\"\n",
    "a=1"
   ]
  },
  {
   "cell_type": "code",
   "execution_count": 9,
   "id": "7fbdda5d",
   "metadata": {},
   "outputs": [],
   "source": [
    "a += 2"
   ]
  },
  {
   "cell_type": "code",
   "execution_count": 10,
   "id": "85e4c5ce",
   "metadata": {},
   "outputs": [
    {
     "data": {
      "text/plain": [
       "3"
      ]
     },
     "execution_count": 10,
     "metadata": {},
     "output_type": "execute_result"
    }
   ],
   "source": [
    "a"
   ]
  },
  {
   "cell_type": "code",
   "execution_count": 14,
   "id": "b25a1f41",
   "metadata": {},
   "outputs": [],
   "source": [
    "a = a+2"
   ]
  },
  {
   "cell_type": "code",
   "execution_count": 15,
   "id": "a20406e5",
   "metadata": {},
   "outputs": [
    {
     "data": {
      "text/plain": [
       "5"
      ]
     },
     "execution_count": 15,
     "metadata": {},
     "output_type": "execute_result"
    }
   ],
   "source": [
    "a"
   ]
  },
  {
   "cell_type": "code",
   "execution_count": 24,
   "id": "096c34bb",
   "metadata": {},
   "outputs": [
    {
     "data": {
      "text/plain": [
       "1"
      ]
     },
     "execution_count": 24,
     "metadata": {},
     "output_type": "execute_result"
    }
   ],
   "source": [
    "a += b"
   ]
  },
  {
   "cell_type": "code",
   "execution_count": 7,
   "id": "7a5e2b3d",
   "metadata": {},
   "outputs": [
    {
     "data": {
      "text/plain": [
       "False"
      ]
     },
     "execution_count": 7,
     "metadata": {},
     "output_type": "execute_result"
    }
   ],
   "source": [
    "a=(\"!\",\"\")\n",
    "b=1\n",
    "b not in a"
   ]
  },
  {
   "cell_type": "markdown",
   "id": "98380ad0",
   "metadata": {},
   "source": [
    "# Indexing and slicing"
   ]
  },
  {
   "cell_type": "code",
   "execution_count": 17,
   "id": "ab099c4f",
   "metadata": {},
   "outputs": [
    {
     "name": "stdout",
     "output_type": "stream",
     "text": [
      "enter your name: cynthia\n"
     ]
    }
   ],
   "source": [
    "  \n"
   ]
  },
  {
   "cell_type": "raw",
   "id": "928ebbe1",
   "metadata": {},
   "source": [
    "c  y  n  t  h  i  a\n",
    "0  1  2  3  4  5  6"
   ]
  },
  {
   "cell_type": "code",
   "execution_count": 19,
   "id": "9c37de61",
   "metadata": {},
   "outputs": [
    {
     "data": {
      "text/plain": [
       "'a'"
      ]
     },
     "execution_count": 19,
     "metadata": {},
     "output_type": "execute_result"
    }
   ],
   "source": [
    "name[-1]"
   ]
  },
  {
   "cell_type": "code",
   "execution_count": 20,
   "id": "e91e6f6b",
   "metadata": {},
   "outputs": [
    {
     "data": {
      "text/plain": [
       "'Cynthia'"
      ]
     },
     "execution_count": 20,
     "metadata": {},
     "output_type": "execute_result"
    }
   ],
   "source": [
    "name[0].upper()+name[1:]"
   ]
  },
  {
   "cell_type": "code",
   "execution_count": 18,
   "id": "c4ca241d",
   "metadata": {},
   "outputs": [
    {
     "data": {
      "text/plain": [
       "'ynt'"
      ]
     },
     "execution_count": 18,
     "metadata": {},
     "output_type": "execute_result"
    }
   ],
   "source": [
    "name[1:4]"
   ]
  },
  {
   "cell_type": "code",
   "execution_count": null,
   "id": "bfe159cf",
   "metadata": {},
   "outputs": [],
   "source": [
    "name[1:4]"
   ]
  },
  {
   "cell_type": "code",
   "execution_count": 20,
   "id": "6d060f6a",
   "metadata": {},
   "outputs": [
    {
     "name": "stdout",
     "output_type": "stream",
     "text": [
      "02468\n"
     ]
    }
   ],
   "source": [
    "number = \"0123456789\"\n",
    "print(number[::2])"
   ]
  },
  {
   "cell_type": "markdown",
   "id": "d0258f95",
   "metadata": {},
   "source": [
    "# Functions and  Formating "
   ]
  },
  {
   "cell_type": "code",
   "execution_count": 5,
   "id": "ab8507e3",
   "metadata": {},
   "outputs": [
    {
     "name": "stdout",
     "output_type": "stream",
     "text": [
      "enter your name cynthia\n"
     ]
    }
   ],
   "source": [
    "lang = input(\"enter your name \")\n"
   ]
  },
  {
   "cell_type": "code",
   "execution_count": 8,
   "id": "1aaa611d",
   "metadata": {},
   "outputs": [],
   "source": [
    "lang=lang.capitalize()"
   ]
  },
  {
   "cell_type": "code",
   "execution_count": 9,
   "id": "d857cb16",
   "metadata": {},
   "outputs": [
    {
     "data": {
      "text/plain": [
       "'Cynthia'"
      ]
     },
     "execution_count": 9,
     "metadata": {},
     "output_type": "execute_result"
    }
   ],
   "source": [
    "lang"
   ]
  },
  {
   "cell_type": "code",
   "execution_count": 10,
   "id": "1b569dcf",
   "metadata": {},
   "outputs": [
    {
     "data": {
      "text/plain": [
       "'cYNTHIA'"
      ]
     },
     "execution_count": 10,
     "metadata": {},
     "output_type": "execute_result"
    }
   ],
   "source": [
    "lang.swapcase()"
   ]
  },
  {
   "cell_type": "code",
   "execution_count": 11,
   "id": "393856f8",
   "metadata": {},
   "outputs": [],
   "source": [
    "name='my name is cynthia'"
   ]
  },
  {
   "cell_type": "code",
   "execution_count": 12,
   "id": "38acdf83",
   "metadata": {},
   "outputs": [
    {
     "name": "stdout",
     "output_type": "stream",
     "text": [
      "my name is akash\n"
     ]
    }
   ],
   "source": [
    "name1=name.replace('cynthia','akash')\n",
    "print(name1)"
   ]
  },
  {
   "cell_type": "code",
   "execution_count": 31,
   "id": "fdca65eb",
   "metadata": {},
   "outputs": [
    {
     "name": "stdout",
     "output_type": "stream",
     "text": [
      "enter your fav colorred\n",
      "red is my fave color\n"
     ]
    }
   ],
   "source": [
    "color=input(\"enter your fav color\")\n",
    "print(f\"{color} is my fave color\")"
   ]
  },
  {
   "cell_type": "code",
   "execution_count": 13,
   "id": "dbea4725",
   "metadata": {},
   "outputs": [],
   "source": [
    "color=\"blue\""
   ]
  },
  {
   "cell_type": "code",
   "execution_count": 15,
   "id": "2d8a5561",
   "metadata": {},
   "outputs": [
    {
     "name": "stdout",
     "output_type": "stream",
     "text": [
      "blue is my fav color\n"
     ]
    }
   ],
   "source": [
    "print(color +\" is my fav color\")"
   ]
  },
  {
   "cell_type": "code",
   "execution_count": 16,
   "id": "695e204c",
   "metadata": {},
   "outputs": [
    {
     "name": "stdout",
     "output_type": "stream",
     "text": [
      "blue is my fav color\n"
     ]
    }
   ],
   "source": [
    "print(f\"{color} is my fav color\")"
   ]
  },
  {
   "cell_type": "code",
   "execution_count": 21,
   "id": "28638be6",
   "metadata": {},
   "outputs": [
    {
     "name": "stdout",
     "output_type": "stream",
     "text": [
      "value 1? 2\n",
      "value 2? 4\n",
      "The sum of the two number is: 6 the multiple of two number is: 8\n"
     ]
    }
   ],
   "source": [
    "a = int(input(\"value 1? \"))\n",
    "b = int(input(\"value 2? \"))\n",
    "print(f\"The sum of the two number is: {a+b} the multiple of two number is: {a*b}\")"
   ]
  },
  {
   "cell_type": "code",
   "execution_count": null,
   "id": "fa3578d1",
   "metadata": {},
   "outputs": [],
   "source": []
  },
  {
   "cell_type": "code",
   "execution_count": 24,
   "id": "310168e8",
   "metadata": {},
   "outputs": [
    {
     "name": "stdout",
     "output_type": "stream",
     "text": [
      "40.5216 is your answer\n"
     ]
    }
   ],
   "source": [
    "a=5\n",
    "b=40.52162\n",
    "print(f\"{b:1.4f} is your answer\" )\n"
   ]
  },
  {
   "cell_type": "code",
   "execution_count": 32,
   "id": "a534688d",
   "metadata": {},
   "outputs": [
    {
     "name": "stdout",
     "output_type": "stream",
     "text": [
      "1.54 is a float\n"
     ]
    }
   ],
   "source": [
    "print(\"{lang:1.2f} is a float\".format(lang = 1.54454))"
   ]
  },
  {
   "cell_type": "markdown",
   "id": "efe76a6b",
   "metadata": {},
   "source": [
    "# List in Python"
   ]
  },
  {
   "cell_type": "code",
   "execution_count": 36,
   "id": "9eb433c3",
   "metadata": {},
   "outputs": [],
   "source": [
    "mylist = ['Apple',\"1kg\",[1,2,2.2,4],[\"apple\",12,[1,2,3,4]]]"
   ]
  },
  {
   "cell_type": "code",
   "execution_count": 40,
   "id": "81bf27dc",
   "metadata": {},
   "outputs": [],
   "source": [
    "mylist=[1,2,3,4,\"asdd\",True]"
   ]
  },
  {
   "cell_type": "code",
   "execution_count": 60,
   "id": "1c418d0b",
   "metadata": {},
   "outputs": [
    {
     "data": {
      "text/plain": [
       "[1, 2, 4, True, 4, 4]"
      ]
     },
     "execution_count": 60,
     "metadata": {},
     "output_type": "execute_result"
    }
   ],
   "source": [
    "mylist"
   ]
  },
  {
   "cell_type": "code",
   "execution_count": 61,
   "id": "8e2debba",
   "metadata": {},
   "outputs": [],
   "source": [
    "mylist.append(1)"
   ]
  },
  {
   "cell_type": "code",
   "execution_count": 44,
   "id": "2c1117a3",
   "metadata": {},
   "outputs": [
    {
     "data": {
      "text/plain": [
       "6"
      ]
     },
     "execution_count": 44,
     "metadata": {},
     "output_type": "execute_result"
    }
   ],
   "source": [
    "mylist.pop()"
   ]
  },
  {
   "cell_type": "code",
   "execution_count": 48,
   "id": "557e3a4c",
   "metadata": {},
   "outputs": [],
   "source": [
    "mylist.remove(\"asdd\")"
   ]
  },
  {
   "cell_type": "code",
   "execution_count": 62,
   "id": "005967ef",
   "metadata": {},
   "outputs": [
    {
     "data": {
      "text/plain": [
       "3"
      ]
     },
     "execution_count": 62,
     "metadata": {},
     "output_type": "execute_result"
    }
   ],
   "source": [
    "mylist.count(1)"
   ]
  },
  {
   "cell_type": "code",
   "execution_count": 63,
   "id": "2ca535db",
   "metadata": {},
   "outputs": [
    {
     "data": {
      "text/plain": [
       "1"
      ]
     },
     "execution_count": 63,
     "metadata": {},
     "output_type": "execute_result"
    }
   ],
   "source": [
    "mylist.index(2)"
   ]
  },
  {
   "cell_type": "code",
   "execution_count": 64,
   "id": "67f316cb",
   "metadata": {},
   "outputs": [],
   "source": [
    "mylist.extend([6,7,8,9,10])"
   ]
  },
  {
   "cell_type": "code",
   "execution_count": 65,
   "id": "8e154cb2",
   "metadata": {},
   "outputs": [
    {
     "data": {
      "text/plain": [
       "[1, 2, 4, True, 4, 4, 1, 6, 7, 8, 9, 10]"
      ]
     },
     "execution_count": 65,
     "metadata": {},
     "output_type": "execute_result"
    }
   ],
   "source": [
    "mylist"
   ]
  },
  {
   "cell_type": "code",
   "execution_count": 34,
   "id": "6e96f9f3",
   "metadata": {},
   "outputs": [],
   "source": [
    "anolist = [\"mango's\",1.5,100]"
   ]
  },
  {
   "cell_type": "code",
   "execution_count": 36,
   "id": "1f1c5d92",
   "metadata": {},
   "outputs": [],
   "source": [
    "clist = mylist+anolist"
   ]
  },
  {
   "cell_type": "code",
   "execution_count": 49,
   "id": "01536fbb",
   "metadata": {},
   "outputs": [],
   "source": [
    "matrix=[[1,2,3],[4,5,6],[7,8,9]]"
   ]
  },
  {
   "cell_type": "code",
   "execution_count": 50,
   "id": "bc8f6ef0",
   "metadata": {},
   "outputs": [
    {
     "data": {
      "text/plain": [
       "4"
      ]
     },
     "execution_count": 50,
     "metadata": {},
     "output_type": "execute_result"
    }
   ],
   "source": [
    "matrix[1][0]"
   ]
  },
  {
   "cell_type": "markdown",
   "id": "fea2858a",
   "metadata": {},
   "source": []
  },
  {
   "cell_type": "raw",
   "id": "3be738c7",
   "metadata": {},
   "source": [
    "Indexig and slicing in list"
   ]
  },
  {
   "cell_type": "code",
   "execution_count": 42,
   "id": "f00d8c1e",
   "metadata": {},
   "outputs": [
    {
     "data": {
      "text/plain": [
       "['Apple', '1kg', \"mango's\"]"
      ]
     },
     "execution_count": 42,
     "metadata": {},
     "output_type": "execute_result"
    }
   ],
   "source": [
    "clist[0:3]"
   ]
  },
  {
   "cell_type": "code",
   "execution_count": null,
   "id": "0198e5c8",
   "metadata": {},
   "outputs": [],
   "source": [
    "new_list = {\"red\":\"apple\",\"orange\":\"orange\",\"yellow\":\"mango\"}\n"
   ]
  },
  {
   "cell_type": "code",
   "execution_count": null,
   "id": "ead17e4e",
   "metadata": {},
   "outputs": [],
   "source": [
    "new_list[\"yellow\"]=\"banana\"\n",
    "print(new_list)"
   ]
  },
  {
   "cell_type": "code",
   "execution_count": null,
   "id": "82e50277",
   "metadata": {},
   "outputs": [],
   "source": [
    "word=input()\n",
    "if word==word[::-1]:\n",
    "    print(\"palindrom\")\n",
    "else:\n",
    "    \n",
    "    print(\"no\")"
   ]
  },
  {
   "cell_type": "markdown",
   "id": "ce6e7b4a",
   "metadata": {},
   "source": [
    "# Append , Pop , Sort, reverse in list"
   ]
  },
  {
   "cell_type": "code",
   "execution_count": 51,
   "id": "31f49418",
   "metadata": {},
   "outputs": [
    {
     "name": "stdout",
     "output_type": "stream",
     "text": [
      "['Apple', '1kg', \"mango's\", 1.5, 100]\n"
     ]
    }
   ],
   "source": [
    "print(clist)\n"
   ]
  },
  {
   "cell_type": "code",
   "execution_count": 54,
   "id": "4496aac6",
   "metadata": {},
   "outputs": [],
   "source": [
    "clist.append([1,2,3,4])"
   ]
  },
  {
   "cell_type": "code",
   "execution_count": 55,
   "id": "3057450f",
   "metadata": {},
   "outputs": [
    {
     "data": {
      "text/plain": [
       "['Apple', '1kg', \"mango's\", 1.5, 100, 'milk', [1, 2, 3, 4]]"
      ]
     },
     "execution_count": 55,
     "metadata": {},
     "output_type": "execute_result"
    }
   ],
   "source": [
    "clist"
   ]
  },
  {
   "cell_type": "code",
   "execution_count": 58,
   "id": "ea5bfd13",
   "metadata": {},
   "outputs": [
    {
     "data": {
      "text/plain": [
       "'Apple'"
      ]
     },
     "execution_count": 58,
     "metadata": {},
     "output_type": "execute_result"
    }
   ],
   "source": [
    "clist.pop(0)"
   ]
  },
  {
   "cell_type": "code",
   "execution_count": 59,
   "id": "0736308f",
   "metadata": {},
   "outputs": [
    {
     "data": {
      "text/plain": [
       "['1kg', \"mango's\", 1.5, 100, 'milk']"
      ]
     },
     "execution_count": 59,
     "metadata": {},
     "output_type": "execute_result"
    }
   ],
   "source": [
    "clist"
   ]
  },
  {
   "cell_type": "code",
   "execution_count": null,
   "id": "dce8acc5",
   "metadata": {},
   "outputs": [],
   "source": [
    "poped_item = clist.pop(0)\n",
    "print(poped_item)"
   ]
  },
  {
   "cell_type": "code",
   "execution_count": 16,
   "id": "02b7564e",
   "metadata": {},
   "outputs": [],
   "source": [
    "number_list = [\"a\",\"B\",\"c\"]"
   ]
  },
  {
   "cell_type": "code",
   "execution_count": 19,
   "id": "0749ad83",
   "metadata": {},
   "outputs": [],
   "source": [
    "number_list.sort()"
   ]
  },
  {
   "cell_type": "code",
   "execution_count": 20,
   "id": "a15b8ebe",
   "metadata": {},
   "outputs": [
    {
     "data": {
      "text/plain": [
       "['B', 'a', 'c']"
      ]
     },
     "execution_count": 20,
     "metadata": {},
     "output_type": "execute_result"
    }
   ],
   "source": [
    "number_list"
   ]
  },
  {
   "cell_type": "code",
   "execution_count": 4,
   "id": "250d3021",
   "metadata": {},
   "outputs": [],
   "source": [
    "number_list.reverse()"
   ]
  },
  {
   "cell_type": "code",
   "execution_count": 5,
   "id": "7c4f258a",
   "metadata": {},
   "outputs": [
    {
     "data": {
      "text/plain": [
       "[7, 4, 3, 2, 1]"
      ]
     },
     "execution_count": 5,
     "metadata": {},
     "output_type": "execute_result"
    }
   ],
   "source": [
    "number_list"
   ]
  },
  {
   "cell_type": "code",
   "execution_count": 1,
   "id": "8d335124",
   "metadata": {},
   "outputs": [],
   "source": [
    "numlist=[6,5,7,4,2,8,3,1,9]"
   ]
  },
  {
   "cell_type": "code",
   "execution_count": 2,
   "id": "71eee6f7",
   "metadata": {},
   "outputs": [
    {
     "data": {
      "text/plain": [
       "6"
      ]
     },
     "execution_count": 2,
     "metadata": {},
     "output_type": "execute_result"
    }
   ],
   "source": [
    "numlist[0]"
   ]
  },
  {
   "cell_type": "code",
   "execution_count": 3,
   "id": "d6449b32",
   "metadata": {},
   "outputs": [
    {
     "data": {
      "text/plain": [
       "[5, 7, 4, 2, 8]"
      ]
     },
     "execution_count": 3,
     "metadata": {},
     "output_type": "execute_result"
    }
   ],
   "source": [
    "numlist[1:6]"
   ]
  },
  {
   "cell_type": "markdown",
   "id": "6a758728",
   "metadata": {},
   "source": [
    "# Dictionaries in Python\n"
   ]
  },
  {
   "cell_type": "code",
   "execution_count": null,
   "id": "f31f95fa",
   "metadata": {},
   "outputs": [],
   "source": [
    "my_dict = {'key1':'value','key2':'value2'}"
   ]
  },
  {
   "cell_type": "code",
   "execution_count": null,
   "id": "41018e3d",
   "metadata": {},
   "outputs": [],
   "source": [
    "my_dict['key1']"
   ]
  },
  {
   "cell_type": "code",
   "execution_count": 21,
   "id": "677fe199",
   "metadata": {},
   "outputs": [],
   "source": [
    "stud_rollno={\"sriram\":193510,\"akash\":193511,\"basu\":193512,\"gohul\":140312}"
   ]
  },
  {
   "cell_type": "code",
   "execution_count": 22,
   "id": "3611a1a9",
   "metadata": {},
   "outputs": [
    {
     "data": {
      "text/plain": [
       "140312"
      ]
     },
     "execution_count": 22,
     "metadata": {},
     "output_type": "execute_result"
    }
   ],
   "source": [
    "stud_rollno[\"gohul\"]"
   ]
  },
  {
   "cell_type": "code",
   "execution_count": null,
   "id": "22b66a6f",
   "metadata": {},
   "outputs": [],
   "source": [
    "price_list['orange']"
   ]
  },
  {
   "cell_type": "code",
   "execution_count": 24,
   "id": "075a8c59",
   "metadata": {},
   "outputs": [],
   "source": [
    "d = {'k1':123,'ice cream':[\"choc\",\"vanila\",\"straw\"],'foods':{'fruit':'apple' ,'fastfood':'pizza','juice': 'milk shake'}}"
   ]
  },
  {
   "cell_type": "code",
   "execution_count": 28,
   "id": "6516ad19",
   "metadata": {},
   "outputs": [],
   "source": [
    "d['foods']['fastfood'] = \"fried rice\""
   ]
  },
  {
   "cell_type": "code",
   "execution_count": null,
   "id": "edfb3c92",
   "metadata": {},
   "outputs": [],
   "source": [
    "d['ice cream'][2]"
   ]
  },
  {
   "cell_type": "code",
   "execution_count": 29,
   "id": "785c65dc",
   "metadata": {},
   "outputs": [
    {
     "data": {
      "text/plain": [
       "'fried rice'"
      ]
     },
     "execution_count": 29,
     "metadata": {},
     "output_type": "execute_result"
    }
   ],
   "source": [
    "d['foods']['fastfood'] "
   ]
  },
  {
   "cell_type": "code",
   "execution_count": null,
   "id": "d6857aaf",
   "metadata": {},
   "outputs": [],
   "source": [
    "d = {\"k1\":123,\"k2\":\"hello\",\"fruits\":[\"apple\",\"grapes\",\"orange\"],\"k3\":{\"inside key\":100}}"
   ]
  },
  {
   "cell_type": "code",
   "execution_count": null,
   "id": "2bf82e61",
   "metadata": {},
   "outputs": [],
   "source": [
    "d[\"k3\"][\"inside key\"]"
   ]
  },
  {
   "cell_type": "code",
   "execution_count": null,
   "id": "5abd549b",
   "metadata": {},
   "outputs": [],
   "source": [
    "d['k3']['inside key']"
   ]
  },
  {
   "cell_type": "code",
   "execution_count": null,
   "id": "f281bafa",
   "metadata": {},
   "outputs": [],
   "source": [
    "d['k3']['inside key'] = 200"
   ]
  },
  {
   "cell_type": "code",
   "execution_count": null,
   "id": "5ad0e6d2",
   "metadata": {},
   "outputs": [],
   "source": [
    "d['k3']['inside key']"
   ]
  },
  {
   "cell_type": "code",
   "execution_count": null,
   "id": "f52ffd84",
   "metadata": {},
   "outputs": [],
   "source": [
    "d[\"fruits\"][1]\n"
   ]
  },
  {
   "cell_type": "markdown",
   "id": "beaf6eac",
   "metadata": {},
   "source": [
    "# Tuples With Python"
   ]
  },
  {
   "cell_type": "code",
   "execution_count": null,
   "id": "2d79e453",
   "metadata": {},
   "outputs": [],
   "source": [
    "t = (1,2,3,4)"
   ]
  },
  {
   "cell_type": "code",
   "execution_count": null,
   "id": "a5bc5b74",
   "metadata": {},
   "outputs": [],
   "source": [
    "lst = [1,2,3,4]"
   ]
  },
  {
   "cell_type": "code",
   "execution_count": null,
   "id": "fa236a2b",
   "metadata": {},
   "outputs": [],
   "source": [
    "type(lst)"
   ]
  },
  {
   "cell_type": "code",
   "execution_count": null,
   "id": "f97044e4",
   "metadata": {},
   "outputs": [],
   "source": [
    "len(t)"
   ]
  },
  {
   "cell_type": "code",
   "execution_count": null,
   "id": "5448af6d",
   "metadata": {},
   "outputs": [],
   "source": [
    "t1 = (\"one\",2,3.00,[1,2,4])"
   ]
  },
  {
   "cell_type": "code",
   "execution_count": null,
   "id": "5223e326",
   "metadata": {},
   "outputs": [],
   "source": [
    "t1[-2]"
   ]
  },
  {
   "cell_type": "code",
   "execution_count": null,
   "id": "a824484f",
   "metadata": {},
   "outputs": [],
   "source": [
    "t1[-1][0]"
   ]
  },
  {
   "cell_type": "markdown",
   "id": "79f43ce2",
   "metadata": {},
   "source": [
    "# Count & index functions in tuple"
   ]
  },
  {
   "cell_type": "code",
   "execution_count": null,
   "id": "e0ea439c",
   "metadata": {},
   "outputs": [],
   "source": [
    "cntry = (1,1,\"USA\",\"IND\",\"UK\",\"IND\",\"USA\",\"IND\")"
   ]
  },
  {
   "cell_type": "code",
   "execution_count": null,
   "id": "7a1df1a4",
   "metadata": {},
   "outputs": [],
   "source": [
    "cntry.count(\"USA\")"
   ]
  },
  {
   "cell_type": "code",
   "execution_count": null,
   "id": "3c0bcfb0",
   "metadata": {},
   "outputs": [],
   "source": [
    "cntry.index(\"UK\")"
   ]
  },
  {
   "cell_type": "code",
   "execution_count": null,
   "id": "4e7d65c5",
   "metadata": {},
   "outputs": [],
   "source": [
    "lst = [1,2,3,4]\n",
    "t = (1,2,3,4)"
   ]
  },
  {
   "cell_type": "code",
   "execution_count": null,
   "id": "669f5ab9",
   "metadata": {},
   "outputs": [],
   "source": [
    "lst[0] = 2\n",
    "lst"
   ]
  },
  {
   "cell_type": "code",
   "execution_count": null,
   "id": "4363d2c0",
   "metadata": {},
   "outputs": [],
   "source": [
    "t[0] = 2"
   ]
  },
  {
   "cell_type": "markdown",
   "id": "6fc53154",
   "metadata": {},
   "source": [
    "# sets in pyhton"
   ]
  },
  {
   "cell_type": "code",
   "execution_count": null,
   "id": "eabe464d",
   "metadata": {},
   "outputs": [],
   "source": [
    "sets = set(\"a\")"
   ]
  },
  {
   "cell_type": "code",
   "execution_count": null,
   "id": "11fa5815",
   "metadata": {},
   "outputs": [],
   "source": [
    "sets"
   ]
  },
  {
   "cell_type": "code",
   "execution_count": null,
   "id": "8b85b1a0",
   "metadata": {},
   "outputs": [],
   "source": [
    "sets.add(\"a\")\n",
    "sets.add(\"c\")\n",
    "sets"
   ]
  },
  {
   "cell_type": "code",
   "execution_count": null,
   "id": "139fd9c2",
   "metadata": {},
   "outputs": [],
   "source": [
    "sets.remove(\"c\")"
   ]
  },
  {
   "cell_type": "code",
   "execution_count": null,
   "id": "cd29d750",
   "metadata": {},
   "outputs": [],
   "source": [
    "sets"
   ]
  },
  {
   "cell_type": "code",
   "execution_count": 1,
   "id": "2341a9e8",
   "metadata": {},
   "outputs": [],
   "source": [
    "number1 = (1,2,3,1,2,3,4,5,5,6,6)"
   ]
  },
  {
   "cell_type": "code",
   "execution_count": 13,
   "id": "1c9a707e",
   "metadata": {},
   "outputs": [
    {
     "data": {
      "text/plain": [
       "(1, 2, 3, 1, 2, 3, 4, 5, 5, 6, 6)"
      ]
     },
     "execution_count": 13,
     "metadata": {},
     "output_type": "execute_result"
    }
   ],
   "source": [
    "number1"
   ]
  },
  {
   "cell_type": "code",
   "execution_count": 15,
   "id": "f3a79592",
   "metadata": {},
   "outputs": [],
   "source": [
    "number1=list(number1)"
   ]
  },
  {
   "cell_type": "code",
   "execution_count": 26,
   "id": "00abec6c",
   "metadata": {},
   "outputs": [
    {
     "data": {
      "text/plain": [
       "(0, 1, 2, 3, 4, 5, 6)"
      ]
     },
     "execution_count": 26,
     "metadata": {},
     "output_type": "execute_result"
    }
   ],
   "source": [
    "number1"
   ]
  },
  {
   "cell_type": "code",
   "execution_count": 17,
   "id": "4c8d5a29",
   "metadata": {},
   "outputs": [],
   "source": [
    "number1.append(1)"
   ]
  },
  {
   "cell_type": "code",
   "execution_count": 19,
   "id": "7a4da728",
   "metadata": {},
   "outputs": [],
   "source": [
    "number1[-1]=0"
   ]
  },
  {
   "cell_type": "code",
   "execution_count": 21,
   "id": "a87d4538",
   "metadata": {},
   "outputs": [],
   "source": [
    "number1=tuple(number1)"
   ]
  },
  {
   "cell_type": "code",
   "execution_count": 25,
   "id": "cf4180ec",
   "metadata": {},
   "outputs": [],
   "source": [
    "number1=tuple(set(number1))"
   ]
  },
  {
   "cell_type": "code",
   "execution_count": 27,
   "id": "0f1d23b4",
   "metadata": {},
   "outputs": [
    {
     "data": {
      "text/plain": [
       "(0, 1, 2, 3, 4, 5, 6)"
      ]
     },
     "execution_count": 27,
     "metadata": {},
     "output_type": "execute_result"
    }
   ],
   "source": [
    "number1"
   ]
  },
  {
   "cell_type": "code",
   "execution_count": null,
   "id": "3f1557bd",
   "metadata": {},
   "outputs": [],
   "source": []
  },
  {
   "cell_type": "code",
   "execution_count": null,
   "id": "343a4a8b",
   "metadata": {},
   "outputs": [],
   "source": [
    "price_list={input(\"enter the product name \"):int(input(\"enter the price \")),input(\"enter the product name \"):int(input(\"enter the price \")),input(\"enter the product name \"):int(input(\"enter the price \")),input(\"enter the product name \"):int(input(\"enter the price \"))}\n",
    "cart = input(\"list of product: \").split(\",\")\n",
    "print(price_list[cart[0]]+price_list[cart[1]]+price_list[cart[2]])\n"
   ]
  },
  {
   "cell_type": "code",
   "execution_count": null,
   "id": "e9a5b118",
   "metadata": {},
   "outputs": [],
   "source": [
    "cart = input(\"list of product: \").split(\",\")\n",
    "print(price_list[cart[0]]+price_list[cart[1]]+price_list[cart[2]])\n"
   ]
  },
  {
   "cell_type": "code",
   "execution_count": null,
   "id": "9ce60518",
   "metadata": {},
   "outputs": [],
   "source": [
    "list1=input().split(\"0\")\n",
    "print(list1)"
   ]
  },
  {
   "cell_type": "code",
   "execution_count": null,
   "id": "4ea689e5",
   "metadata": {},
   "outputs": [],
   "source": [
    "print(price_list[cart[0]]+price_list[cart[1]]+price_list[cart[2]])"
   ]
  },
  {
   "cell_type": "markdown",
   "id": "012b8c16",
   "metadata": {},
   "source": [
    "# Conditional Statements"
   ]
  },
  {
   "cell_type": "raw",
   "id": "cd019169",
   "metadata": {},
   "source": [
    "IF Conditions"
   ]
  },
  {
   "cell_type": "code",
   "execution_count": 4,
   "id": "b937e82a",
   "metadata": {},
   "outputs": [
    {
     "name": "stdout",
     "output_type": "stream",
     "text": [
      "hello\n"
     ]
    }
   ],
   "source": [
    "if True:\n",
    "    print(\"hello\")\n",
    "else:\n",
    "    print(\"world\")"
   ]
  },
  {
   "cell_type": "code",
   "execution_count": 5,
   "id": "beda5223",
   "metadata": {},
   "outputs": [
    {
     "name": "stdout",
     "output_type": "stream",
     "text": [
      "Enter your age: 18\n",
      "Eligible\n"
     ]
    }
   ],
   "source": [
    "age = int(input(\"Enter your age: \"))\n",
    "if age >= 18:\n",
    "    print(\"Eligible\")\n",
    "else:\n",
    "    print(\"Not Eligible\")"
   ]
  },
  {
   "cell_type": "code",
   "execution_count": 34,
   "id": "50a0f0cc",
   "metadata": {},
   "outputs": [
    {
     "name": "stdout",
     "output_type": "stream",
     "text": [
      "Enter your product mango\n",
      "not available\n"
     ]
    }
   ],
   "source": [
    "products = input(\"Enter your product \")\n",
    "if products == \"apple\":\n",
    "    print(\"product available\")\n",
    "elif products == \"orange\":\n",
    "    print(\"product available\")\n",
    "elif products == \"grapes\":\n",
    "    print(\"product available\")\n",
    "else:\n",
    "    print(\"not available\")\n"
   ]
  },
  {
   "cell_type": "code",
   "execution_count": null,
   "id": "0f8c759c",
   "metadata": {},
   "outputs": [],
   "source": [
    "products = input(\"Enter your product \")\n",
    "\n",
    "available_products = [\"apple\",\"orange\",\"grapes\"]\n",
    "\n",
    "\n",
    "if products in available_products:\n",
    "    print(\"product available\")\n",
    "else:\n",
    "    print(\"product not available\")"
   ]
  },
  {
   "cell_type": "code",
   "execution_count": 6,
   "id": "065045ba",
   "metadata": {},
   "outputs": [
    {
     "name": "stdout",
     "output_type": "stream",
     "text": [
      "Enter your namegamkers\n",
      "online\n"
     ]
    }
   ],
   "source": [
    "username = input(\"Enter your name\")\n",
    "activename=[\"akash\",\"gohul\",\"gamkers\"]\n",
    "if username in activename:\n",
    "    print(\"online\")\n",
    "else:\n",
    "    print(\"offline\")"
   ]
  },
  {
   "cell_type": "code",
   "execution_count": null,
   "id": "62d11851",
   "metadata": {},
   "outputs": [],
   "source": []
  },
  {
   "cell_type": "markdown",
   "id": "032af90b",
   "metadata": {},
   "source": [
    "# x = int(input(\"enter the number of commands\"))\n",
    "n = 0\n",
    "while n != x:\n",
    "    n += 1\n",
    "    command = input(\"enter your command\")\n",
    "    if \"hello\" in command or \"hi\" in command:\n",
    "        talk(\"hi how are you?\")\n",
    "    elif \"fine\" in command or \"good\" in command:\n",
    "        talk(\"happy to hear that\")\n",
    "    elif \"name\" in command:\n",
    "        talk(\"my name is BOT\")\n",
    "        talk(\"whats your name\")\n",
    "        name = input()\n",
    "        talk(f\"nice to meet you {name}\")\n",
    "    elif \"morning\" in command:\n",
    "        talk(\"A very Good Morning! I hope this morning brings a bright smile on your face\")\n",
    "    elif\"evening\" in command:\n",
    "        talk(\"No matter how bad your day has been, the beauty of the setting sun will make everything serene\")\n",
    "    elif\"stop\" in command:\n",
    "        break\n",
    "    elif\"thanks\" in command:\n",
    "        talk(\"your smile makes me happy too\")\n",
    "    else:\n",
    "        talk(\"i didn't get you\")\n",
    "        "
   ]
  },
  {
   "cell_type": "code",
   "execution_count": null,
   "id": "b128a2c8",
   "metadata": {},
   "outputs": [],
   "source": [
    "\n"
   ]
  },
  {
   "cell_type": "markdown",
   "id": "1d37dd6a",
   "metadata": {},
   "source": [
    "# For Loop\n"
   ]
  },
  {
   "cell_type": "code",
   "execution_count": 1,
   "id": "abcd1378",
   "metadata": {
    "scrolled": true
   },
   "outputs": [
    {
     "name": "stdout",
     "output_type": "stream",
     "text": [
      "1\n",
      "2\n",
      "3\n",
      "4\n",
      "5\n",
      "6\n"
     ]
    }
   ],
   "source": [
    "number = [1,2,3,4,5,6]\n",
    "for x in number:\n",
    "    print(x)"
   ]
  },
  {
   "cell_type": "code",
   "execution_count": null,
   "id": "38f6b1ab",
   "metadata": {},
   "outputs": [],
   "source": [
    "number = [1,2,3,4,5,6]\n",
    "for x in number:\n",
    "    if x%2==0:\n",
    "        print(f\"{x} Even\")\n",
    "    else:\n",
    "        print(f\"{x} ODD\")"
   ]
  },
  {
   "cell_type": "code",
   "execution_count": 42,
   "id": "6b78bea0",
   "metadata": {},
   "outputs": [
    {
     "data": {
      "text/plain": [
       "0"
      ]
     },
     "execution_count": 42,
     "metadata": {},
     "output_type": "execute_result"
    }
   ],
   "source": [
    "8%2"
   ]
  },
  {
   "cell_type": "code",
   "execution_count": 1,
   "id": "68f8035d",
   "metadata": {},
   "outputs": [
    {
     "name": "stdout",
     "output_type": "stream",
     "text": [
      "50\n",
      "52\n",
      "54\n",
      "56\n",
      "58\n",
      "60\n",
      "62\n",
      "64\n",
      "66\n",
      "68\n",
      "70\n",
      "72\n",
      "74\n",
      "76\n",
      "78\n",
      "80\n",
      "82\n",
      "84\n",
      "86\n",
      "88\n",
      "90\n",
      "92\n",
      "94\n",
      "96\n",
      "98\n"
     ]
    }
   ],
   "source": [
    "\n",
    "for i in range(50,100):\n",
    "    if i%2==0:\n",
    "        print(i)"
   ]
  },
  {
   "cell_type": "code",
   "execution_count": null,
   "id": "f24f3363",
   "metadata": {},
   "outputs": [],
   "source": [
    "marks = [95,86,72,68]\n",
    "for x in marks:\n",
    "    if x >= 90:\n",
    "        print(\"A+\")\n",
    "    elif x > 80 and x < 95 :\n",
    "        print(\"A\")\n",
    "    elif x > 70 and x < 80 :\n",
    "        print(\"B+\")\n",
    "    elif x > 60 and x < 70:\n",
    "        print(\"B\")\n",
    "    else:\n",
    "        print(\"F\")\n",
    "     \n"
   ]
  },
  {
   "cell_type": "code",
   "execution_count": null,
   "id": "07a1afa6",
   "metadata": {},
   "outputs": [],
   "source": [
    "\n"
   ]
  },
  {
   "cell_type": "code",
   "execution_count": null,
   "id": "fd495c83",
   "metadata": {},
   "outputs": [],
   "source": []
  },
  {
   "cell_type": "markdown",
   "id": "c970d916",
   "metadata": {},
   "source": [
    "# While Loop\n"
   ]
  },
  {
   "cell_type": "code",
   "execution_count": 3,
   "id": "2d036430",
   "metadata": {},
   "outputs": [
    {
     "name": "stdout",
     "output_type": "stream",
     "text": [
      "hello1\n",
      "hello2\n",
      "hello3\n",
      "hello4\n",
      "hello5\n",
      "hello6\n",
      "hello7\n",
      "hello8\n",
      "hello9\n"
     ]
    }
   ],
   "source": [
    "\n",
    "a=1\n",
    "while a < 10:\n",
    "    print(\"hello\"+str(a))\n",
    "    a = a+1"
   ]
  },
  {
   "cell_type": "code",
   "execution_count": null,
   "id": "106d0529",
   "metadata": {},
   "outputs": [],
   "source": []
  },
  {
   "cell_type": "code",
   "execution_count": null,
   "id": "539fe559",
   "metadata": {},
   "outputs": [],
   "source": []
  },
  {
   "cell_type": "code",
   "execution_count": 17,
   "id": "3a6cdce0",
   "metadata": {},
   "outputs": [
    {
     "name": "stdout",
     "output_type": "stream",
     "text": [
      "21\n",
      "5\n",
      "9\n",
      "13\n"
     ]
    }
   ],
   "source": [
    "a=((1,20),(2,3),(4,5),(6,7))\n",
    "for x,y in a:\n",
    "    print(x+y)\n",
    "\n",
    "    "
   ]
  },
  {
   "cell_type": "code",
   "execution_count": 10,
   "id": "bad5e5d1",
   "metadata": {},
   "outputs": [
    {
     "name": "stdout",
     "output_type": "stream",
     "text": [
      "1\n",
      "2\n",
      "3\n",
      "4\n",
      "5\n",
      "6\n",
      "7\n",
      "8\n",
      "9\n"
     ]
    }
   ],
   "source": [
    "a=1\n",
    "while a<10:\n",
    "    print(a)\n",
    "    a=a+1"
   ]
  },
  {
   "cell_type": "code",
   "execution_count": 5,
   "id": "528a6be9",
   "metadata": {},
   "outputs": [
    {
     "name": "stdout",
     "output_type": "stream",
     "text": [
      "1\n",
      "2\n",
      "3\n",
      "4\n",
      "5\n",
      "6\n",
      "7\n",
      "8\n",
      "9\n",
      "10\n"
     ]
    }
   ],
   "source": [
    "a=0\n",
    "while True:\n",
    "    a=a+1\n",
    "    print(a)\n",
    "    if a >= 10:\n",
    "        break"
   ]
  },
  {
   "cell_type": "code",
   "execution_count": 29,
   "id": "f4a03e33",
   "metadata": {},
   "outputs": [],
   "source": [
    "a=[]"
   ]
  },
  {
   "cell_type": "code",
   "execution_count": 30,
   "id": "86b66868",
   "metadata": {},
   "outputs": [
    {
     "data": {
      "text/plain": [
       "0"
      ]
     },
     "execution_count": 30,
     "metadata": {},
     "output_type": "execute_result"
    }
   ],
   "source": [
    "len(a)"
   ]
  },
  {
   "cell_type": "code",
   "execution_count": 20,
   "id": "a878c59f",
   "metadata": {
    "scrolled": false
   },
   "outputs": [
    {
     "name": "stdout",
     "output_type": "stream",
     "text": [
      "enter the name akash\n",
      "enter the name cynthia\n",
      "enter the name isac\n",
      "enter the name joel\n",
      "enter the name john\n",
      "['akash', 'cynthia', 'isac', 'joel', 'john']\n"
     ]
    }
   ],
   "source": [
    "mylist = []\n",
    "\n",
    "while len(mylist) < 5:\n",
    "    mylist.append(input(\"enter the name \"))\n",
    "print(mylist)"
   ]
  },
  {
   "cell_type": "code",
   "execution_count": 34,
   "id": "f6a65953",
   "metadata": {},
   "outputs": [
    {
     "data": {
      "text/plain": [
       "'john'"
      ]
     },
     "execution_count": 34,
     "metadata": {},
     "output_type": "execute_result"
    }
   ],
   "source": [
    "mylist[4]"
   ]
  },
  {
   "cell_type": "code",
   "execution_count": 1,
   "id": "6bf9b21d",
   "metadata": {},
   "outputs": [
    {
     "name": "stdout",
     "output_type": "stream",
     "text": [
      "range(0, 4)\n"
     ]
    }
   ],
   "source": [
    "print(range(4))"
   ]
  },
  {
   "cell_type": "code",
   "execution_count": 4,
   "id": "4afcae44",
   "metadata": {},
   "outputs": [],
   "source": [
    "n=list(range(5))"
   ]
  },
  {
   "cell_type": "code",
   "execution_count": 6,
   "id": "24737ec9",
   "metadata": {},
   "outputs": [
    {
     "name": "stdout",
     "output_type": "stream",
     "text": [
      "[0, 1, 2, 3, 4]\n"
     ]
    }
   ],
   "source": [
    "print(n)"
   ]
  },
  {
   "cell_type": "code",
   "execution_count": 51,
   "id": "78d7ec2f",
   "metadata": {},
   "outputs": [
    {
     "name": "stdout",
     "output_type": "stream",
     "text": [
      "number of products: 2\n",
      "Enter the Product name: grill\n",
      "Price of the product: 400\n",
      "Enter the Product name: shawarma\n",
      "Price of the product: 150\n",
      "{'grill': 400, 'shawarma': 150}\n"
     ]
    }
   ],
   "source": [
    "productp = {}\n",
    "no=int(input(\"number of products: \"))\n",
    "while len(productp) < no:\n",
    "    prod=input(\"Enter the Product name: \")\n",
    "    productp[prod] = int(input(\"Price of the product: \"))\n",
    "    \n",
    "print(productp)"
   ]
  },
  {
   "cell_type": "code",
   "execution_count": 38,
   "id": "83bdf1d4",
   "metadata": {},
   "outputs": [],
   "source": [
    "prod={\"a\":1,\"b\":2}"
   ]
  },
  {
   "cell_type": "code",
   "execution_count": 39,
   "id": "74925d6c",
   "metadata": {},
   "outputs": [
    {
     "data": {
      "text/plain": [
       "2"
      ]
     },
     "execution_count": 39,
     "metadata": {},
     "output_type": "execute_result"
    }
   ],
   "source": [
    "len(prod)"
   ]
  },
  {
   "cell_type": "code",
   "execution_count": 55,
   "id": "a88148d2",
   "metadata": {},
   "outputs": [],
   "source": [
    "buy=[\"shawarma\",'grill']"
   ]
  },
  {
   "cell_type": "code",
   "execution_count": 58,
   "id": "8494b219",
   "metadata": {},
   "outputs": [
    {
     "name": "stdout",
     "output_type": "stream",
     "text": [
      "550\n"
     ]
    }
   ],
   "source": [
    "pric=0\n",
    "for i in buy:\n",
    "#     print(productp[i])\n",
    "    pric+=productp[i]\n",
    "print(pric)"
   ]
  },
  {
   "cell_type": "code",
   "execution_count": 7,
   "id": "2899592b",
   "metadata": {},
   "outputs": [
    {
     "name": "stdout",
     "output_type": "stream",
     "text": [
      "apple\n",
      "apple\n",
      "apple\n",
      "apple\n",
      "apple\n",
      "apple\n",
      "apple\n",
      "apple\n",
      "apple\n",
      "apple\n"
     ]
    }
   ],
   "source": [
    "for i in range(10):\n",
    "    print(\"apple\")"
   ]
  },
  {
   "cell_type": "code",
   "execution_count": null,
   "id": "93ab311c",
   "metadata": {},
   "outputs": [],
   "source": [
    "x=0\n",
    "while x < 10:\n",
    "    print(x)\n",
    "    x = x+1   ## x "
   ]
  },
  {
   "cell_type": "code",
   "execution_count": null,
   "id": "d1d8e04d",
   "metadata": {},
   "outputs": [],
   "source": [
    "mylist = [\"apple\",\"orange\",\"grapes\"]\n",
    "print(len(mylist))\n",
    "len(mylist) > 4"
   ]
  },
  {
   "cell_type": "code",
   "execution_count": null,
   "id": "e9f7df4f",
   "metadata": {},
   "outputs": [],
   "source": [
    "user = input().split(\",\")\n",
    "keys = [\"akash\",\"darkii\",\"siri\",\"sai\"]\n",
    "for x in user:\n",
    "    if x not in keys:\n",
    "        print(\"vaipila raja\")\n",
    "    else:\n",
    "        print(f\"welcome {x}\")\n",
    "    "
   ]
  },
  {
   "cell_type": "markdown",
   "id": "8fc56541",
   "metadata": {},
   "source": [
    "# List Comprehension"
   ]
  },
  {
   "cell_type": "code",
   "execution_count": 8,
   "id": "35fa5cec",
   "metadata": {},
   "outputs": [],
   "source": [
    "name = \"akash\"\n",
    "latter=[]\n",
    "for i in name:\n",
    "    latter.append(i)"
   ]
  },
  {
   "cell_type": "code",
   "execution_count": 5,
   "id": "e4b56b3e",
   "metadata": {},
   "outputs": [
    {
     "data": {
      "text/plain": [
       "['a', 'k', 'a', 's', 'h']"
      ]
     },
     "execution_count": 5,
     "metadata": {},
     "output_type": "execute_result"
    }
   ],
   "source": [
    "letter"
   ]
  },
  {
   "cell_type": "code",
   "execution_count": 13,
   "id": "5c9d2d54",
   "metadata": {},
   "outputs": [
    {
     "data": {
      "text/plain": [
       "['a', 'k', 'a', 's', 'h']"
      ]
     },
     "execution_count": 13,
     "metadata": {},
     "output_type": "execute_result"
    }
   ],
   "source": [
    "nlist = [ latters for latters in name]\n",
    "nlist"
   ]
  },
  {
   "cell_type": "code",
   "execution_count": 14,
   "id": "92cd823b",
   "metadata": {},
   "outputs": [
    {
     "data": {
      "text/plain": [
       "[0, 2, 4, 6, 8]"
      ]
     },
     "execution_count": 14,
     "metadata": {},
     "output_type": "execute_result"
    }
   ],
   "source": [
    "evenum = [ numbers for numbers in range(0,10,2)]\n",
    "evenum"
   ]
  },
  {
   "cell_type": "code",
   "execution_count": 15,
   "id": "53f3fc27",
   "metadata": {},
   "outputs": [
    {
     "data": {
      "text/plain": [
       "[0, 1, 4, 9, 16, 25, 36, 49, 64, 81]"
      ]
     },
     "execution_count": 15,
     "metadata": {},
     "output_type": "execute_result"
    }
   ],
   "source": [
    "sqrnum = [ numbers**2 for numbers in range(0,10)]\n",
    "sqrnum"
   ]
  },
  {
   "cell_type": "code",
   "execution_count": 16,
   "id": "e41dab0e",
   "metadata": {},
   "outputs": [
    {
     "data": {
      "text/plain": [
       "['akash', 'abinash', 'arjis']"
      ]
     },
     "execution_count": 16,
     "metadata": {},
     "output_type": "execute_result"
    }
   ],
   "source": [
    "namelist = [\"akash\",\"basskaran\",\"abinash\",\"darkii\",\"arjis\"]\n",
    "alist = [names for names in namelist if names[0]==\"a\"]\n",
    "alist"
   ]
  },
  {
   "cell_type": "code",
   "execution_count": null,
   "id": "39177325",
   "metadata": {},
   "outputs": [],
   "source": [
    "celcius = [3,4,6,7,8,9]\n",
    "fahrenhiet = [((9/5)*temp+32) for temp in celcius]\n",
    "fahrenhiet"
   ]
  },
  {
   "cell_type": "code",
   "execution_count": 10,
   "id": "b5631b19",
   "metadata": {},
   "outputs": [],
   "source": [
    "results = [x if x%2 == 0 else \"odd\" for x in range(0,10)]"
   ]
  },
  {
   "cell_type": "code",
   "execution_count": 11,
   "id": "3f43dbd4",
   "metadata": {},
   "outputs": [
    {
     "data": {
      "text/plain": [
       "[0, 'odd', 2, 'odd', 4, 'odd', 6, 'odd', 8, 'odd']"
      ]
     },
     "execution_count": 11,
     "metadata": {},
     "output_type": "execute_result"
    }
   ],
   "source": [
    "results"
   ]
  },
  {
   "cell_type": "code",
   "execution_count": null,
   "id": "ffc75589",
   "metadata": {},
   "outputs": [],
   "source": [
    "results = [x*y for x in [1,2,3,4] for y in [1,2,3,4]]"
   ]
  },
  {
   "cell_type": "code",
   "execution_count": null,
   "id": "c223447c",
   "metadata": {},
   "outputs": [],
   "source": [
    "results"
   ]
  },
  {
   "cell_type": "code",
   "execution_count": 17,
   "id": "a52bcf7d",
   "metadata": {},
   "outputs": [],
   "source": [
    "greetings = [\"hi \"+names.upper()  for names in [\"akash\",\"darki\",\"siri\",\"Arun\"] if names[0].upper()==\"A\"]"
   ]
  },
  {
   "cell_type": "code",
   "execution_count": 18,
   "id": "0a40468b",
   "metadata": {},
   "outputs": [
    {
     "data": {
      "text/plain": [
       "['hi AKASH', 'hi ARUN']"
      ]
     },
     "execution_count": 18,
     "metadata": {},
     "output_type": "execute_result"
    }
   ],
   "source": [
    "greetings"
   ]
  },
  {
   "cell_type": "raw",
   "id": "2020cd2f",
   "metadata": {},
   "source": [
    "METHODS AND FUNCTIONS"
   ]
  },
  {
   "cell_type": "code",
   "execution_count": null,
   "id": "6d63b6a6",
   "metadata": {},
   "outputs": [],
   "source": [
    "mylist=[1,2,3,4,5,6]"
   ]
  },
  {
   "cell_type": "code",
   "execution_count": null,
   "id": "97b7c807",
   "metadata": {},
   "outputs": [],
   "source": [
    "mylist.insert(2,5)\n",
    "mylist"
   ]
  },
  {
   "cell_type": "code",
   "execution_count": null,
   "id": "929a96bc",
   "metadata": {},
   "outputs": [],
   "source": [
    "mylist.extend(\"s\")\n",
    "mylist"
   ]
  },
  {
   "cell_type": "markdown",
   "id": "08a504de",
   "metadata": {},
   "source": [
    "# FUNCTIONS"
   ]
  },
  {
   "cell_type": "code",
   "execution_count": 4,
   "id": "f865f5ff",
   "metadata": {},
   "outputs": [],
   "source": [
    "def casemaker(phone,colour):\n",
    "    return (f\"{colour} color case ready for the {phone} \")\n",
    "    \n",
    "    "
   ]
  },
  {
   "cell_type": "code",
   "execution_count": 5,
   "id": "b71ff3ae",
   "metadata": {},
   "outputs": [
    {
     "name": "stdout",
     "output_type": "stream",
     "text": [
      "blue color case ready for the Iphone 13 pro max \n"
     ]
    }
   ],
   "source": [
    "greet=casemaker(\"Iphone 13 pro max\",\"blue\")\n",
    "print(greet)\n"
   ]
  },
  {
   "cell_type": "code",
   "execution_count": 35,
   "id": "28c7266d",
   "metadata": {},
   "outputs": [
    {
     "name": "stdout",
     "output_type": "stream",
     "text": [
      "blue color case ready for the Iphone 13 pro max \n"
     ]
    }
   ],
   "source": [
    "print(greet)"
   ]
  },
  {
   "cell_type": "code",
   "execution_count": 37,
   "id": "efde10d4",
   "metadata": {},
   "outputs": [],
   "source": [
    "def add(a,b):\n",
    "    a=a*2\n",
    "    return a+b\n",
    "def sub(a,b):\n",
    "    return a-b\n",
    "def multi(a,b):\n",
    "    return a*b\n",
    "def divi(a,b):\n",
    "    return a//b"
   ]
  },
  {
   "cell_type": "code",
   "execution_count": 39,
   "id": "21437a13",
   "metadata": {},
   "outputs": [
    {
     "data": {
      "text/plain": [
       "3"
      ]
     },
     "execution_count": 39,
     "metadata": {},
     "output_type": "execute_result"
    }
   ],
   "source": [
    "multi(1*3)"
   ]
  },
  {
   "cell_type": "code",
   "execution_count": 40,
   "id": "0d205ce5",
   "metadata": {},
   "outputs": [
    {
     "data": {
      "text/plain": [
       "'redmicase'"
      ]
     },
     "execution_count": 40,
     "metadata": {},
     "output_type": "execute_result"
    }
   ],
   "source": [
    "def phonecase(phone):\n",
    "    return phone + \"case\"\n",
    "phonecase(\"redmi\")"
   ]
  },
  {
   "cell_type": "code",
   "execution_count": 43,
   "id": "f4dcc7c3",
   "metadata": {},
   "outputs": [
    {
     "name": "stdout",
     "output_type": "stream",
     "text": [
      "enter the first value: 3\n",
      "enter the second value: 4\n",
      "mention the operation: *\n",
      "Your Answer: 12\n"
     ]
    }
   ],
   "source": [
    "a = int(input(\"enter the first value: \"))\n",
    "b = int(input(\"enter the second value: \"))\n",
    "operations = input(\"mention the operation: \")\n",
    "ans = 0\n",
    "if \"+\" in operations:\n",
    "    ans = addition(a,b)\n",
    "if \"-\" in operations:\n",
    "    ans = sub(a,b)\n",
    "if \"*\" in operations:\n",
    "    ans = multi(a,b)\n",
    "if \"/\" in operations:\n",
    "    ans = divi(a,b)\n",
    "print(f\"Your Answer: {ans}\")\n",
    "    "
   ]
  },
  {
   "cell_type": "code",
   "execution_count": null,
   "id": "44cec63e",
   "metadata": {},
   "outputs": [],
   "source": [
    "sums = input().split(\" \")"
   ]
  },
  {
   "cell_type": "code",
   "execution_count": null,
   "id": "e1a8eda1",
   "metadata": {},
   "outputs": [],
   "source": [
    "sums"
   ]
  },
  {
   "cell_type": "code",
   "execution_count": null,
   "id": "acca25c2",
   "metadata": {},
   "outputs": [],
   "source": [
    "def greeting(name):\n",
    "    print(f\"hello {name}\")"
   ]
  },
  {
   "cell_type": "code",
   "execution_count": null,
   "id": "19d40a98",
   "metadata": {},
   "outputs": [],
   "source": [
    "greeting(\"sri ram\")\n"
   ]
  },
  {
   "cell_type": "code",
   "execution_count": null,
   "id": "d27c4ebc",
   "metadata": {},
   "outputs": [],
   "source": [
    "a=greeting(\"afjoh\")"
   ]
  },
  {
   "cell_type": "code",
   "execution_count": null,
   "id": "4d2df551",
   "metadata": {},
   "outputs": [],
   "source": [
    "def greeting(name):\n",
    "    return(f\"hello {name}\")"
   ]
  },
  {
   "cell_type": "code",
   "execution_count": null,
   "id": "404ada6d",
   "metadata": {},
   "outputs": [],
   "source": [
    "greeting(\"akash\")"
   ]
  },
  {
   "cell_type": "code",
   "execution_count": null,
   "id": "49a4eee1",
   "metadata": {},
   "outputs": [],
   "source": [
    "greeting()"
   ]
  },
  {
   "cell_type": "code",
   "execution_count": null,
   "id": "431fde67",
   "metadata": {},
   "outputs": [],
   "source": [
    "def priceop(lst):\n",
    "    price_list={\"pasta\":28,\"maggi\":10,\"bag\":5,\"newspaper\":3,\"milk\":19,\"watercan\":30}\n",
    "    sumofproduct=0\n",
    "    for x in lst:\n",
    "        if x in price_list:\n",
    "            sumofproduct+=price_list[x]\n",
    "        else:\n",
    "            print(f\"product {x} is not available\")\n",
    "    return sumofproduct"
   ]
  },
  {
   "cell_type": "code",
   "execution_count": null,
   "id": "570b1983",
   "metadata": {},
   "outputs": [],
   "source": [
    "def priceop(lst):\n",
    "    price_list={\"pasta\":28,\"maggi\":10,\"bag\":5,\"newspaper\":3,\"milk\":19,\"watercan\":30}\n",
    "    print(price_list[lst[0]]+price_list[lst[1]]+price_list[lst[2]])\n",
    "    \n",
    "    "
   ]
  },
  {
   "cell_type": "code",
   "execution_count": null,
   "id": "83cd740d",
   "metadata": {},
   "outputs": [],
   "source": [
    "priceop([\"pasta\",\"bag\",\"milk\"])"
   ]
  },
  {
   "cell_type": "code",
   "execution_count": 6,
   "id": "4631525e",
   "metadata": {},
   "outputs": [],
   "source": [
    "def even_num_check(numberslist):\n",
    "    even_number = []\n",
    "    for number in numberslist:\n",
    "        if number%2==0:\n",
    "            even_number.append(number)\n",
    "        else:\n",
    "            pass\n",
    "    return even_number\n",
    "            "
   ]
  },
  {
   "cell_type": "code",
   "execution_count": 7,
   "id": "04ad1fe7",
   "metadata": {},
   "outputs": [
    {
     "data": {
      "text/plain": [
       "[2, 4]"
      ]
     },
     "execution_count": 7,
     "metadata": {},
     "output_type": "execute_result"
    }
   ],
   "source": [
    "even_num_check([1,2,3,4,5])"
   ]
  },
  {
   "cell_type": "raw",
   "id": "f242ad5c",
   "metadata": {},
   "source": [
    "Tuple unpacking using functions\n"
   ]
  },
  {
   "cell_type": "code",
   "execution_count": null,
   "id": "766e230a",
   "metadata": {},
   "outputs": [],
   "source": []
  },
  {
   "cell_type": "code",
   "execution_count": null,
   "id": "3bba1438",
   "metadata": {},
   "outputs": [],
   "source": [
    "def employee_of_the_month(emp_list):\n",
    "        current_max = 0\n",
    "        best_employee = \"\"\n",
    "        for employee,hours in emp_list:\n",
    "            if hours> current_max:\n",
    "                current_max = hours\n",
    "                best_employee = employee\n",
    "            else:\n",
    "                pass\n",
    "        return(best_employee,current_max)"
   ]
  },
  {
   "cell_type": "code",
   "execution_count": null,
   "id": "25fbb8da",
   "metadata": {},
   "outputs": [],
   "source": [
    "employee_of_the_month([(\"siri\",300),(\"darkii\",2000),(\"akash\",1000),(\"sai\",50)])"
   ]
  },
  {
   "cell_type": "raw",
   "id": "065160f7",
   "metadata": {},
   "source": [
    "def names_check(list1):\n",
    "    nameA=[]\n",
    "    for name in list1:\n",
    "        if name[0]==\"a\":\n",
    "            nameA.append(name)\n",
    "        else:\n",
    "            pass\n",
    "        return(nameA)"
   ]
  },
  {
   "cell_type": "code",
   "execution_count": null,
   "id": "e8336b65",
   "metadata": {},
   "outputs": [],
   "source": [
    "names_check([\"skash\",\"balu\",\"ajay\"])"
   ]
  },
  {
   "cell_type": "code",
   "execution_count": null,
   "id": "22efb85b",
   "metadata": {},
   "outputs": [],
   "source": [
    "names=[(\"akash\",\"M\"),(\"siri\",\"K\"),(\"Darki\",\"D\")]"
   ]
  },
  {
   "cell_type": "code",
   "execution_count": null,
   "id": "f0877734",
   "metadata": {},
   "outputs": [],
   "source": [
    "for name,initial in names:\n",
    "    print(initial)"
   ]
  },
  {
   "cell_type": "code",
   "execution_count": null,
   "id": "d4a6b9c3",
   "metadata": {},
   "outputs": [],
   "source": [
    "def best_student(marklist):\n",
    "    max_mark=0\n",
    "    topper=\"\"\n",
    "    for names,marks in marklist:\n",
    "        if marks>max_mark:\n",
    "            max_mark = marks\n",
    "            topper = names\n",
    "        else:\n",
    "            pass\n",
    "    return(max_mark,topper)"
   ]
  },
  {
   "cell_type": "code",
   "execution_count": null,
   "id": "128f720e",
   "metadata": {},
   "outputs": [],
   "source": [
    "def best_biriyanii(biriyani_list):\n",
    "    max_rating=0.0\n",
    "    best_biriyani=\"\"\n",
    "    location=\"\"\n",
    "    for rating,biriyani,map_location in biriyani_list:\n",
    "        if rating>max_rating:\n",
    "            max_rating=rating;\n",
    "            best_biriyani=biriyani;\n",
    "            location=map_location;\n",
    "        else:\n",
    "            pass\n",
    "    print(f\"the best biriyani in chennai is {best_biriyani} and the overall rating is {max_rating} the location of the shop is {location}\")"
   ]
  },
  {
   "cell_type": "markdown",
   "id": "8831170f",
   "metadata": {},
   "source": [
    "# *ARGs & *KWARG"
   ]
  },
  {
   "cell_type": "code",
   "execution_count": 1,
   "id": "91c4c277",
   "metadata": {},
   "outputs": [
    {
     "name": "stdout",
     "output_type": "stream",
     "text": [
      "[(4.4, ' Copper Chimney ', ' Phoenix Market City, Chennai '), (4.0, \" Khalid's Biryani \", ' Ambattur, Chennai '), (4.3, \" Sulthan's Biryani \", ' Navallur, Chennai '), (5.0, ' Aasife Biriyani ', ' Velachery, Chennai '), (4.0, \" Khalid's Biryani \", ' Perumbakkam, Chennai '), (4.0, ' Singam 101 Biryani ', ' Valasaravakkam, Chennai '), (3.0, ' Afraaz Biriyani ', ' Madipakkam, Chennai '), (4.5, \" Abid's \", ' Chetpet, Chennai '), (4.5, ' Anise ', ' Taj Coromandel, Chennai '), (4.6, ' Curry and Spices ', ' Kodambakkam, Chennai ')]\n"
     ]
    },
    {
     "ename": "NameError",
     "evalue": "name 'best_biriyanii' is not defined",
     "output_type": "error",
     "traceback": [
      "\u001b[1;31m---------------------------------------------------------------------------\u001b[0m",
      "\u001b[1;31mNameError\u001b[0m                                 Traceback (most recent call last)",
      "\u001b[1;32m<ipython-input-1-5413553ef172>\u001b[0m in \u001b[0;36m<module>\u001b[1;34m\u001b[0m\n\u001b[0;32m     27\u001b[0m \u001b[0mprint\u001b[0m\u001b[1;33m(\u001b[0m\u001b[0mch_biriyani\u001b[0m\u001b[1;33m)\u001b[0m\u001b[1;33m\u001b[0m\u001b[1;33m\u001b[0m\u001b[0m\n\u001b[0;32m     28\u001b[0m \u001b[1;33m\u001b[0m\u001b[0m\n\u001b[1;32m---> 29\u001b[1;33m \u001b[0mbest_biriyanii\u001b[0m\u001b[1;33m(\u001b[0m\u001b[0mch_biriyani\u001b[0m\u001b[1;33m)\u001b[0m\u001b[1;33m\u001b[0m\u001b[1;33m\u001b[0m\u001b[0m\n\u001b[0m",
      "\u001b[1;31mNameError\u001b[0m: name 'best_biriyanii' is not defined"
     ]
    }
   ],
   "source": [
    "import requests\n",
    "from bs4 import BeautifulSoup\n",
    "url =\"https://www.eazydiner.com/chennai/restaurants/biryani\"\n",
    "r = requests.get(url)\n",
    "data = BeautifulSoup(r.text, \"html.parser\")\n",
    "##print(data.prettify())\n",
    "temp = data.find_all('span', class_=\"critic\")\n",
    "rating = []\n",
    "biriyani = []\n",
    "location = []\n",
    "for elements in temp:\n",
    "    element = float(elements.text)\n",
    "    \n",
    "    rating.append(element)\n",
    "\n",
    "temp1 = data.find_all('h3', class_=\"grey res_name font-20 bold inline-block\")   \n",
    "for elements1 in temp1:\n",
    "    elements1 = elements1.text.replace(\"\\n           \",\" \").replace(\"          \",\" \").replace(\"      \",\" \")\n",
    "    ##elements1= elements1.text.replace(\"      \",\" \")\n",
    "    biriyani.append(elements1)\n",
    "\n",
    "temp2 = data.find_all('h3', class_=\"margin-t-5 res_loc\")\n",
    "for elements2 in temp2:\n",
    "    location.append(elements2.text.replace(\"\\n     \",\" \").replace(\"                \",\" \").replace(\"            \",\" \"))\n",
    "\n",
    "ch_biriyani = list(zip(rating,biriyani,location))\n",
    "print(ch_biriyani)\n",
    "\n",
    "best_biriyanii(ch_biriyani)"
   ]
  },
  {
   "cell_type": "code",
   "execution_count": null,
   "id": "0359881b",
   "metadata": {},
   "outputs": [],
   "source": [
    "def solve(A):\n",
    "    B=tuple(A)\n",
    "    C=[]\n",
    "    for element in A:\n",
    "        C.append(B.count(element))\n",
    "    D = max(C)\n",
    "    return D"
   ]
  },
  {
   "cell_type": "code",
   "execution_count": null,
   "id": "06cce11a",
   "metadata": {},
   "outputs": [],
   "source": [
    "solve([1,1,2,3,1])"
   ]
  },
  {
   "cell_type": "code",
   "execution_count": null,
   "id": "0ca12700",
   "metadata": {},
   "outputs": [],
   "source": [
    "def solve(N,A):\n",
    "    B=tuple(A)\n",
    "    C=[]\n",
    "    for element in A:\n",
    "        C.append(B.count(element))\n",
    "    D = max(C)\n",
    "    return D"
   ]
  },
  {
   "cell_type": "code",
   "execution_count": null,
   "id": "78858739",
   "metadata": {},
   "outputs": [],
   "source": [
    "solve(3,[1,2,3,4,3])"
   ]
  },
  {
   "cell_type": "raw",
   "id": "52482bf5",
   "metadata": {},
   "source": [
    "MAP & LAMBDA"
   ]
  },
  {
   "cell_type": "code",
   "execution_count": null,
   "id": "1572112c",
   "metadata": {},
   "outputs": [],
   "source": [
    "def vote(age):\n",
    "    if age>= 18:\n",
    "        return \"Eligible\"\n",
    "    else:\n",
    "        return \"NOT Eligible\"\n",
    "    \n",
    "ellist = []\n",
    "for elements in agelist:\n",
    "    ellist.append((vote(elements)))\n",
    "print(ellist)\n"
   ]
  },
  {
   "cell_type": "code",
   "execution_count": null,
   "id": "0f8e88fc",
   "metadata": {},
   "outputs": [],
   "source": [
    "agelist = [14,19,18]"
   ]
  },
  {
   "cell_type": "code",
   "execution_count": null,
   "id": "6bd4511f",
   "metadata": {},
   "outputs": [],
   "source": [
    "list(map(vote,agelist))\n"
   ]
  },
  {
   "cell_type": "code",
   "execution_count": null,
   "id": "6b1cffcb",
   "metadata": {},
   "outputs": [],
   "source": [
    "for elements in agelist:\n",
    "    print(vote(elements))"
   ]
  },
  {
   "cell_type": "code",
   "execution_count": null,
   "id": "ee36ae30",
   "metadata": {},
   "outputs": [],
   "source": [
    "def square(num):return num**2\n",
    "def squarert(num):return num**0.5"
   ]
  },
  {
   "cell_type": "code",
   "execution_count": null,
   "id": "b4a9bb14",
   "metadata": {},
   "outputs": [],
   "source": [
    "print(list(map(square,[1,2,3,4,5])))\n",
    "list(map(squarert,[1,2,3,4,5]))"
   ]
  },
  {
   "cell_type": "code",
   "execution_count": null,
   "id": "0d417933",
   "metadata": {},
   "outputs": [],
   "source": [
    "list(map(lambda num:num**2,[1,12,32,4]))"
   ]
  },
  {
   "cell_type": "code",
   "execution_count": null,
   "id": "aa6d434c",
   "metadata": {},
   "outputs": [],
   "source": [
    "list(map(lambda name:name[0] ,[\"akash\",\"surendharan\",\"sirisha\",\"darkii\"]))"
   ]
  },
  {
   "cell_type": "code",
   "execution_count": null,
   "id": "273d3a5c",
   "metadata": {},
   "outputs": [],
   "source": [
    "list(map(lambda word:int(word) == word[::-1] ,input(\"Enter the element\").split(\",\")))"
   ]
  },
  {
   "cell_type": "code",
   "execution_count": null,
   "id": "ddf46330",
   "metadata": {},
   "outputs": [],
   "source": [
    "listn=[]\n",
    "n = int(input(\"enter the number of list\"))\n",
    "while n!=0:\n",
    "    listn.append(input())\n",
    "    n-=1\n",
    "listn"
   ]
  },
  {
   "cell_type": "code",
   "execution_count": null,
   "id": "17612f45",
   "metadata": {},
   "outputs": [],
   "source": [
    "l = input(\"Enter the element\").split(\",\")\n",
    "l"
   ]
  },
  {
   "cell_type": "code",
   "execution_count": null,
   "id": "75cea608",
   "metadata": {},
   "outputs": [],
   "source": [
    "x = \"GLOBAL\"\n",
    "def numbers():\n",
    "    x=\"LOCAL\"\n",
    "    def number2():\n",
    "        global x\n",
    "        x=4\n",
    "        print(x)\n",
    "    number2()\n",
    "    \n",
    "    \n"
   ]
  },
  {
   "cell_type": "markdown",
   "id": "0fb12e89",
   "metadata": {},
   "source": [
    "# CLASS & OBJECTS"
   ]
  },
  {
   "cell_type": "markdown",
   "id": "697e6fdd",
   "metadata": {},
   "source": [
    "A class is a user-defined blueprint or prototype from which objects are created. Classes provide a means of bundling data and functionality together. Creating a new class creates a new type of object, allowing new instances of that type to be made. "
   ]
  },
  {
   "cell_type": "code",
   "execution_count": null,
   "id": "8a4fed97",
   "metadata": {},
   "outputs": [],
   "source": [
    "class Phone():\n",
    "    def __init__(self,model,ram,camera,storage,colour):\n",
    "        #Attribute properties of the objects\n",
    "        #getting arguments from the user\n",
    "        #then assigning to the self.attribute_name\n",
    "        #we assuming self as a instance of the class\n",
    "        self.model=model\n",
    "        self.ram=ram\n",
    "        self.camera=camera\n",
    "        self.storage=storage\n",
    "        self.colour = colour\n",
    "        "
   ]
  },
  {
   "cell_type": "code",
   "execution_count": null,
   "id": "7aac1bb7",
   "metadata": {},
   "outputs": [],
   "source": [
    "myphone=Phone(model=\"Redmi note 8 pro\",ram=\"6GB\",camera=\"64MP\",storage=\"64GB\",colour = \"Green\")"
   ]
  },
  {
   "cell_type": "code",
   "execution_count": null,
   "id": "d5a97687",
   "metadata": {},
   "outputs": [],
   "source": [
    "myphone.model"
   ]
  },
  {
   "cell_type": "code",
   "execution_count": null,
   "id": "f82e2f42",
   "metadata": {},
   "outputs": [],
   "source": [
    "myphone.camera"
   ]
  },
  {
   "cell_type": "code",
   "execution_count": null,
   "id": "ad320a76",
   "metadata": {},
   "outputs": [],
   "source": [
    "myphone.ram"
   ]
  },
  {
   "cell_type": "code",
   "execution_count": null,
   "id": "a351dde8",
   "metadata": {},
   "outputs": [],
   "source": [
    "myphone.storage"
   ]
  },
  {
   "cell_type": "code",
   "execution_count": null,
   "id": "4c047af8",
   "metadata": {},
   "outputs": [],
   "source": [
    "class Numlist():\n",
    "    def __init__(self,numbers):\n",
    "        \n",
    "        self.evenlist = [x for x in numbers if x%2==0]\n",
    "        self.oddlist = [x for x in numbers if x%2!=0]\n",
    "        self.square=[x**2 for x in numbers]\n",
    "        self.squareroot=[x**(1/2) for x in numbers]\n",
    "        "
   ]
  },
  {
   "cell_type": "code",
   "execution_count": null,
   "id": "3356c30f",
   "metadata": {},
   "outputs": [],
   "source": [
    "mynumlist=Numlist(numbers=[1,2,3,4,5,6,7,8,9,10])"
   ]
  },
  {
   "cell_type": "code",
   "execution_count": null,
   "id": "4e1239db",
   "metadata": {},
   "outputs": [],
   "source": [
    "mynumlist."
   ]
  },
  {
   "cell_type": "code",
   "execution_count": null,
   "id": "c22385d8",
   "metadata": {},
   "outputs": [],
   "source": [
    "mynumlist.oddlist"
   ]
  },
  {
   "cell_type": "code",
   "execution_count": null,
   "id": "f24747a1",
   "metadata": {},
   "outputs": [],
   "source": [
    "mynumlist.square"
   ]
  },
  {
   "cell_type": "code",
   "execution_count": null,
   "id": "0f61964f",
   "metadata": {},
   "outputs": [],
   "source": [
    "mynumlist.squareroot"
   ]
  },
  {
   "cell_type": "code",
   "execution_count": 2,
   "id": "045b0cc7",
   "metadata": {},
   "outputs": [],
   "source": [
    "class Phone():\n",
    "    \n",
    "    #class object attribute\n",
    "    #same for any instance of the class\n",
    "    phtype = \"Smart phone\"\n",
    "    \n",
    "    def __init__(self,model,ram,camera,storage):\n",
    "        #Attribute properties of the objects\n",
    "        #getting arguments from the user\n",
    "        #then assigning to the self.attribute_name\n",
    "        #we assuming self as a instance of the class\n",
    "        self.model=model\n",
    "        self.ram=ram\n",
    "        self.camera=camera\n",
    "        self.storage=storage\n",
    "        \n",
    "    def info(self,colour):#methods\n",
    "        print(f\" Model name: {self.model}\\n RAM: {self.ram}\\n Camera: {self.camera}\\n Storage: {self.storage}, colour is {colour}\")"
   ]
  },
  {
   "cell_type": "code",
   "execution_count": 3,
   "id": "58233d14",
   "metadata": {},
   "outputs": [],
   "source": [
    "myphone=Phone(model=\"Redmi note 8 pro\",ram=\"6GB\",camera=\"64MP\",storage=\"64GB\")"
   ]
  },
  {
   "cell_type": "code",
   "execution_count": 4,
   "id": "ef644296",
   "metadata": {},
   "outputs": [],
   "source": [
    "vishal=Phone(model=\"Redmi note 8 pro\",ram=\"6GB\",camera=\"64MP\",storage=\"64GB\")"
   ]
  },
  {
   "cell_type": "code",
   "execution_count": 7,
   "id": "1a87f865",
   "metadata": {
    "scrolled": true
   },
   "outputs": [
    {
     "data": {
      "text/plain": [
       "2026355471024"
      ]
     },
     "execution_count": 7,
     "metadata": {},
     "output_type": "execute_result"
    }
   ],
   "source": [
    "id(myphone)"
   ]
  },
  {
   "cell_type": "code",
   "execution_count": 8,
   "id": "311d4fc1",
   "metadata": {},
   "outputs": [
    {
     "data": {
      "text/plain": [
       "2026355470832"
      ]
     },
     "execution_count": 8,
     "metadata": {},
     "output_type": "execute_result"
    }
   ],
   "source": [
    "id(vishal)"
   ]
  },
  {
   "cell_type": "code",
   "execution_count": 5,
   "id": "7b1760b9",
   "metadata": {},
   "outputs": [
    {
     "data": {
      "text/plain": [
       "'Smart phone'"
      ]
     },
     "execution_count": 5,
     "metadata": {},
     "output_type": "execute_result"
    }
   ],
   "source": [
    "myphone.phtype"
   ]
  },
  {
   "cell_type": "code",
   "execution_count": null,
   "id": "ee8fb8bf",
   "metadata": {},
   "outputs": [],
   "source": [
    "class Numlist():\n",
    "    def __init__(self,numbers):\n",
    "        self.numbers=numbers\n",
    "        self.evenlist = [x for x in numbers if x%2==0]\n",
    "        self.oddlist = [x for x in numbers if x%2!=0]\n",
    "        self.square=[x**2 for x in numbers]\n",
    "        self.squareroot=[x**(1/2) for x in numbers]\n",
    "        \n",
    "    def addlist(self,anotherlist):\n",
    "        combinedlist=[x+y for x in self.numbers for y in anotherlist]\n",
    "        return combinedlist"
   ]
  },
  {
   "cell_type": "code",
   "execution_count": null,
   "id": "451a7e3a",
   "metadata": {},
   "outputs": [],
   "source": [
    "mynumlist=Numlist(numbers=[1,2,3,4,5,6,7,8,9,10])"
   ]
  },
  {
   "cell_type": "code",
   "execution_count": null,
   "id": "e892dc1e",
   "metadata": {},
   "outputs": [],
   "source": [
    "mynumlist.evenlist()"
   ]
  },
  {
   "cell_type": "markdown",
   "id": "8f8c8c8b",
   "metadata": {},
   "source": [
    "# INHERITANCE"
   ]
  },
  {
   "cell_type": "raw",
   "id": "f4bbd580",
   "metadata": {},
   "source": [
    "Inheritance is one in which a new class is created (derived class) that inherits the features from the already existing class(Base class). "
   ]
  },
  {
   "cell_type": "code",
   "execution_count": 42,
   "id": "7af3dc81",
   "metadata": {},
   "outputs": [],
   "source": [
    "class Students():\n",
    "    \n",
    "    def __init__(self,stdinfo):\n",
    "        self.stdinfo = stdinfo\n",
    "        self.names = [names for names,rollno,CGPA in stdinfo]\n",
    "        self.rollno = [rollno for names,rollno,CGPA in stdinfo]\n",
    "        self.CGPA = [CGPA for names,rollno,CGPA in stdinfo]\n",
    "        "
   ]
  },
  {
   "cell_type": "code",
   "execution_count": 43,
   "id": "849c5b75",
   "metadata": {},
   "outputs": [],
   "source": [
    "\n",
    "students=Students([(\"akash\",57,9.25),(\"siri\",26,9.23),(\"Mirage\",21,9.10),(\"Mark\",32,6)])"
   ]
  },
  {
   "cell_type": "code",
   "execution_count": 44,
   "id": "2cfed1a5",
   "metadata": {},
   "outputs": [
    {
     "data": {
      "text/plain": [
       "[9.25, 9.23, 9.1, 6]"
      ]
     },
     "execution_count": 44,
     "metadata": {},
     "output_type": "execute_result"
    }
   ],
   "source": [
    "students.CGPA"
   ]
  },
  {
   "cell_type": "code",
   "execution_count": 45,
   "id": "abd532e7",
   "metadata": {},
   "outputs": [],
   "source": [
    "class Placement(Students):\n",
    "    def __init__(self,stdinfo):\n",
    "        Students.__init__(self,stdinfo)\n",
    "    def eligible(self):\n",
    "        return [names for names,rollno,CGPA in self.stdinfo if CGPA>8]"
   ]
  },
  {
   "cell_type": "code",
   "execution_count": 46,
   "id": "8b796ecf",
   "metadata": {},
   "outputs": [],
   "source": [
    "placement2022=Placement([(\"akash\",57,9.25),(\"siri\",26,9.23),(\"Mirage\",21,9.10),(\"Mark\",32,6)])"
   ]
  },
  {
   "cell_type": "code",
   "execution_count": 47,
   "id": "b640a225",
   "metadata": {},
   "outputs": [
    {
     "data": {
      "text/plain": [
       "['akash', 'siri', 'Mirage']"
      ]
     },
     "execution_count": 47,
     "metadata": {},
     "output_type": "execute_result"
    }
   ],
   "source": [
    "placement2022.eligible()"
   ]
  },
  {
   "cell_type": "markdown",
   "id": "5437c54f",
   "metadata": {},
   "source": [
    "# polymorphism"
   ]
  },
  {
   "cell_type": "raw",
   "id": "d89173ec",
   "metadata": {},
   "source": [
    "Polymorphism refers to methods of different objects have the same, but do different task"
   ]
  },
  {
   "cell_type": "code",
   "execution_count": 48,
   "id": "5cd65c2e",
   "metadata": {},
   "outputs": [],
   "source": [
    "class Animal():\n",
    "    def __init__(self,name):\n",
    "        self.name=name\n",
    "    def speak(self):\n",
    "        raise notimplementederror(\"subclass must implement this abstract method\")"
   ]
  },
  {
   "cell_type": "code",
   "execution_count": 49,
   "id": "3facc4a2",
   "metadata": {},
   "outputs": [],
   "source": [
    "class Dog(Animal):\n",
    "    def speak(self):\n",
    "        return self.name+\" SAYS WOOF\""
   ]
  },
  {
   "cell_type": "code",
   "execution_count": 50,
   "id": "d15ac821",
   "metadata": {},
   "outputs": [],
   "source": [
    "class Cat(Animal):\n",
    "    def speak(self):\n",
    "        return self.name+\" SAYS MEOW\""
   ]
  },
  {
   "cell_type": "code",
   "execution_count": 51,
   "id": "c4464802",
   "metadata": {},
   "outputs": [
    {
     "name": "stdout",
     "output_type": "stream",
     "text": [
      "SAM SAYS WOOF\n"
     ]
    }
   ],
   "source": [
    "mydog = Dog(\"SAM\")\n",
    "print(mydog.speak())"
   ]
  },
  {
   "cell_type": "code",
   "execution_count": 52,
   "id": "d2166416",
   "metadata": {},
   "outputs": [
    {
     "name": "stdout",
     "output_type": "stream",
     "text": [
      "Luna SAYS MEOW\n"
     ]
    }
   ],
   "source": [
    "mycat = Cat(\"Luna\")\n",
    "print(mycat.speak())"
   ]
  },
  {
   "cell_type": "markdown",
   "id": "096ab724",
   "metadata": {},
   "source": [
    "# Special methods in OOPS"
   ]
  },
  {
   "cell_type": "raw",
   "id": "da76b973",
   "metadata": {},
   "source": [
    "def __str__(self):\n",
    "def __len__(self):\n",
    "del "
   ]
  },
  {
   "cell_type": "code",
   "execution_count": 53,
   "id": "2f4dc198",
   "metadata": {},
   "outputs": [],
   "source": [
    "class Books():\n",
    "    def __init__(self,title,author,pages):\n",
    "        self.title = title\n",
    "        self.author= author\n",
    "        self.pages = pages\n",
    "    def __str__(self):\n",
    "        return f\"{self.title} by {self.author}\""
   ]
  },
  {
   "cell_type": "code",
   "execution_count": 54,
   "id": "5c960dd2",
   "metadata": {},
   "outputs": [],
   "source": [
    "b = Books(\"python rocks\",\"akash\",140)"
   ]
  },
  {
   "cell_type": "code",
   "execution_count": 55,
   "id": "b38c0673",
   "metadata": {},
   "outputs": [
    {
     "name": "stdout",
     "output_type": "stream",
     "text": [
      "python rocks by akash\n"
     ]
    }
   ],
   "source": [
    "print(b)"
   ]
  },
  {
   "cell_type": "code",
   "execution_count": 56,
   "id": "9814f235",
   "metadata": {},
   "outputs": [],
   "source": [
    "class Books():\n",
    "    def __init__(self,title,author,pages):\n",
    "        self.title = title\n",
    "        self.author= author\n",
    "        self.pages = pages\n",
    "    def __str__(self):\n",
    "        return f\"{self.title} by {self.author}\"\n",
    "    def __len__(self):\n",
    "        return self.pages"
   ]
  },
  {
   "cell_type": "code",
   "execution_count": 57,
   "id": "9ebbdfb2",
   "metadata": {},
   "outputs": [],
   "source": [
    "b = Books(\"python rocks\",\"akash\",140)"
   ]
  },
  {
   "cell_type": "code",
   "execution_count": 58,
   "id": "104705ea",
   "metadata": {},
   "outputs": [
    {
     "data": {
      "text/plain": [
       "140"
      ]
     },
     "execution_count": 58,
     "metadata": {},
     "output_type": "execute_result"
    }
   ],
   "source": [
    "len(b)"
   ]
  },
  {
   "cell_type": "code",
   "execution_count": 63,
   "id": "b7dc1d08",
   "metadata": {},
   "outputs": [],
   "source": [
    "class Books():\n",
    "    def __init__(self,title,author,pages):\n",
    "        self.title = title\n",
    "        self.author= author\n",
    "        self.pages = pages\n",
    "    def __str__(self):\n",
    "        return f\"{self.title} by {self.author}\"\n",
    "    def __len__(self):\n",
    "        return self.pages\n",
    "    def __del__(self):\n",
    "        print(\"A book object as been deleted\")"
   ]
  },
  {
   "cell_type": "code",
   "execution_count": 64,
   "id": "75b3ed5e",
   "metadata": {},
   "outputs": [],
   "source": [
    "b = Books(\"python rocks\",\"akash\",140)"
   ]
  },
  {
   "cell_type": "code",
   "execution_count": 65,
   "id": "c81b739b",
   "metadata": {},
   "outputs": [
    {
     "name": "stdout",
     "output_type": "stream",
     "text": [
      "A book object as been deleted\n"
     ]
    }
   ],
   "source": [
    "del b"
   ]
  },
  {
   "cell_type": "markdown",
   "id": "b3f95cce",
   "metadata": {},
   "source": [
    "# OOPS CHALLENGE"
   ]
  },
  {
   "cell_type": "code",
   "execution_count": 66,
   "id": "8fdccb95",
   "metadata": {},
   "outputs": [],
   "source": [
    "class Account:\n",
    "    def __init__(self,owner,balance):\n",
    "        self.owner = owner\n",
    "        self.balance = balance\n",
    "    def __str__(self):\n",
    "        return f\"Account owner:   {self.owner}\\nAccount balance: {self.balance}\"\n",
    "    def deposit(self,money):\n",
    "        self.balance = self.balance+money\n",
    "        print(\"Deposit Accepted\")\n",
    "    def withdraw(self,money):\n",
    "        if money < self.balance:\n",
    "            self.balance = self.balance-money\n",
    "            print(\"Withdrawal Accepted\")\n",
    "        else:\n",
    "            print(\"Funds Unavailable!\")"
   ]
  },
  {
   "cell_type": "code",
   "execution_count": 67,
   "id": "3c1c39af",
   "metadata": {},
   "outputs": [],
   "source": [
    "acct1 = Account('Jose',100)"
   ]
  },
  {
   "cell_type": "code",
   "execution_count": 68,
   "id": "89550e6e",
   "metadata": {},
   "outputs": [
    {
     "name": "stdout",
     "output_type": "stream",
     "text": [
      "Account owner:   Jose\n",
      "Account balance: 100\n"
     ]
    }
   ],
   "source": [
    "print(acct1)"
   ]
  },
  {
   "cell_type": "code",
   "execution_count": 69,
   "id": "9945d115",
   "metadata": {},
   "outputs": [
    {
     "name": "stdout",
     "output_type": "stream",
     "text": [
      "Deposit Accepted\n"
     ]
    }
   ],
   "source": [
    "acct1.deposit(50)"
   ]
  },
  {
   "cell_type": "code",
   "execution_count": 70,
   "id": "60b6c236",
   "metadata": {},
   "outputs": [
    {
     "name": "stdout",
     "output_type": "stream",
     "text": [
      "Withdrawal Accepted\n"
     ]
    }
   ],
   "source": [
    "acct1.withdraw(75)"
   ]
  },
  {
   "cell_type": "code",
   "execution_count": 71,
   "id": "d5d03459",
   "metadata": {},
   "outputs": [
    {
     "name": "stdout",
     "output_type": "stream",
     "text": [
      "Funds Unavailable!\n"
     ]
    }
   ],
   "source": [
    "acct1.withdraw(500)"
   ]
  },
  {
   "cell_type": "code",
   "execution_count": 72,
   "id": "7eb953a0",
   "metadata": {},
   "outputs": [
    {
     "data": {
      "text/plain": [
       "75"
      ]
     },
     "execution_count": 72,
     "metadata": {},
     "output_type": "execute_result"
    }
   ],
   "source": [
    "acct1.balance"
   ]
  },
  {
   "cell_type": "markdown",
   "id": "d7c69cea",
   "metadata": {},
   "source": [
    "# MODULES AND PACKAGES"
   ]
  },
  {
   "cell_type": "code",
   "execution_count": null,
   "id": "b1c0af03",
   "metadata": {},
   "outputs": [],
   "source": []
  },
  {
   "cell_type": "code",
   "execution_count": null,
   "id": "61f2d59b",
   "metadata": {},
   "outputs": [],
   "source": []
  },
  {
   "cell_type": "code",
   "execution_count": 9,
   "id": "0b74c18c",
   "metadata": {},
   "outputs": [],
   "source": [
    "def fact(num):\n",
    "    if num==0:\n",
    "        return 1\n",
    "    return num*fact(num-1)\n",
    "def strong(n):\n",
    "    sum=0\n",
    "    for i in str(n):\n",
    "        sum=sum+fact(int(i))\n",
    "    if sum==n:\n",
    "        return(\"its a strong number\")\n",
    "    else:\n",
    "        return(\"its not a stong number\")"
   ]
  },
  {
   "cell_type": "code",
   "execution_count": 11,
   "id": "aa990726",
   "metadata": {},
   "outputs": [
    {
     "data": {
      "text/plain": [
       "'its not a stong number'"
      ]
     },
     "execution_count": 11,
     "metadata": {},
     "output_type": "execute_result"
    }
   ],
   "source": [
    "strong(141234)"
   ]
  },
  {
   "cell_type": "code",
   "execution_count": 12,
   "id": "1304d3c2",
   "metadata": {},
   "outputs": [
    {
     "name": "stdout",
     "output_type": "stream",
     "text": [
      "YES\n"
     ]
    }
   ],
   "source": [
    "n = 376\n",
    "# n^2 = 141376 141376[-3::] = 376\n",
    "print(\"YES\" if int(str(n**2)[-len(str(n))::]) == n else \"No\")"
   ]
  },
  {
   "cell_type": "code",
   "execution_count": 25,
   "id": "8a96868b",
   "metadata": {},
   "outputs": [],
   "source": [
    "def psqr(num):\n",
    "    n=str(num**num)\n",
    "    return n[-len(str(num))::] == str(num)"
   ]
  },
  {
   "cell_type": "code",
   "execution_count": 26,
   "id": "68f6c5b4",
   "metadata": {},
   "outputs": [
    {
     "name": "stdout",
     "output_type": "stream",
     "text": [
      "376\n",
      "perfect square\n"
     ]
    }
   ],
   "source": [
    "num=int(input())\n",
    "if psqr(num):\n",
    "    print(\"perfect square\")\n",
    "else:\n",
    "    print(\"not a perfect square\")"
   ]
  },
  {
   "cell_type": "code",
   "execution_count": 4,
   "id": "354625df",
   "metadata": {},
   "outputs": [
    {
     "name": "stdout",
     "output_type": "stream",
     "text": [
      "a\n",
      "k\n",
      "a\n",
      "s\n",
      "h\n",
      "5\n"
     ]
    }
   ],
   "source": [
    "name=\"akash\"\n",
    "count=0\n",
    "for letters in name:\n",
    "    print(letters)\n",
    "    count=count+1\n",
    "print(count)"
   ]
  },
  {
   "cell_type": "code",
   "execution_count": null,
   "id": "fbb83695",
   "metadata": {},
   "outputs": [],
   "source": [
    "def printresult(arr1,arr2):\n",
    "    arr3=[]\n",
    "    for i in arr1:\n",
    "        if i in arr2:\n",
    "            li3.append(i)\n",
    "    return arr3\n",
    "        "
   ]
  },
  {
   "cell_type": "code",
   "execution_count": null,
   "id": "088c2d8c",
   "metadata": {},
   "outputs": [],
   "source": [
    "printresult([12,23,34,45,56,67,78,89],[23,11,45,45,99,78])"
   ]
  },
  {
   "cell_type": "code",
   "execution_count": 66,
   "id": "0489d558",
   "metadata": {},
   "outputs": [
    {
     "name": "stdout",
     "output_type": "stream",
     "text": [
      "\n",
      "collecting offer details from amazon\n",
      "\n",
      "Deal of the day  75 % OFFon Amazon Safari Travel Suitcase for Men and Women Rs. 1967 Rs. 7775 BEFORE OFFER PRICE\n",
      "\n",
      "collecting, and sending you the offers\n",
      "Deal of the day  63 % OFFon Amazon True Gaming Earbuds Rs. 1967 Rs. 7775 BEFORE OFFER PRICE\n",
      "\n",
      "Deal of the day  38 % OFFon Amazon Logitech M221 Wireless Mouse Rs. 799 Rs. 1295 BEFORE OFFER PRICE\n",
      "\n",
      "Deal of the day  55 % OFFon Amazon Butterfly Smart Glass 3 Burner Gas Stove Rs. 2899 Rs. 6495 BEFORE OFFER PRICE\n"
     ]
    }
   ],
   "source": [
    "from bs4 import BeautifulSoup\n",
    "import requests\n",
    "url = \"https://www.grabon.in/amazon-deals/\"\n",
    "r = requests.get(url)\n",
    "data = BeautifulSoup(r.text, \"html.parser\")\n",
    "print(\"\\ncollecting offer details from amazon\")\n",
    "temp = data.find_all(\"div\", class_=\"g-deal\")\n",
    "\n",
    "print(\"\\nDeal of the day\", temp[0].text.replace(\"   \", \"on\").replace(\"BUY NOW\", \"BEFORE OFFER PRICE\"))\n",
    "\n",
    "print(\"\\ncollecting, and sending you the offers\")\n",
    "print(\"Deal of the day\", temp[1].text.replace(\"   \", \"on\").replace(\"BUY NOW\", \"BEFORE OFFER PRICE\"))\n",
    "\n",
    "print(\"\\nDeal of the day\", temp[2].text.replace(\"   \", \"on\").replace(\"BUY NOW\", \"BEFORE OFFER PRICE\"))\n",
    "\n",
    "print(\"\\nDeal of the day\", temp[3].text.replace(\"   \", \"on\").replace(\"BUY NOW\", \"BEFORE OFFER PRICE\"))"
   ]
  },
  {
   "cell_type": "code",
   "execution_count": null,
   "id": "7a6a7e5f",
   "metadata": {},
   "outputs": [],
   "source": []
  }
 ],
 "metadata": {
  "kernelspec": {
   "display_name": "Python 3 (ipykernel)",
   "language": "python",
   "name": "python3"
  },
  "language_info": {
   "codemirror_mode": {
    "name": "ipython",
    "version": 3
   },
   "file_extension": ".py",
   "mimetype": "text/x-python",
   "name": "python",
   "nbconvert_exporter": "python",
   "pygments_lexer": "ipython3",
   "version": "3.11.5"
  }
 },
 "nbformat": 4,
 "nbformat_minor": 5
}
